{
 "cells": [
  {
   "cell_type": "markdown",
   "id": "f1ba6f25",
   "metadata": {},
   "source": [
    "# Simple LLM Workflow with LangGraph\n",
    "\n",
    "This notebook demonstrates how to create a **simple LLM-based workflow** using LangGraph and Google's Gemini model. \n",
    "\n",
    "## Workflow Overview\n",
    "We'll build a straightforward Q&A system that:\n",
    "1. Takes a user question as input\n",
    "2. Sends it to Google's Gemini LLM for processing\n",
    "3. Returns the AI-generated answer\n",
    "\n",
    "This is the simplest possible LLM workflow - a single node that processes questions and generates answers.\n",
    "\n",
    "## Prerequisites\n",
    "- Google API key for Gemini model\n",
    "- `.env` file with `GEMINI_API_KEY` variable"
   ]
  },
  {
   "cell_type": "markdown",
   "id": "486438bc",
   "metadata": {},
   "source": [
    "## Import Required Libraries\n",
    "\n",
    "Let's import all the necessary components:\n",
    "- **LangGraph**: For building our workflow graph\n",
    "- **ChatGoogleGenerativeAI**: Google's Gemini model interface\n",
    "- **TypedDict**: For type-safe state management\n",
    "- **dotenv**: For loading environment variables securely"
   ]
  },
  {
   "cell_type": "code",
   "execution_count": 4,
   "id": "4d848e05",
   "metadata": {},
   "outputs": [],
   "source": [
    "from langgraph.graph import StateGraph, START, END\n",
    "from langchain_google_genai import ChatGoogleGenerativeAI\n",
    "from typing import TypedDict\n",
    "from dotenv import load_dotenv\n",
    "import os"
   ]
  },
  {
   "cell_type": "markdown",
   "id": "b3d092d7",
   "metadata": {},
   "source": [
    "## Load Environment Variables\n",
    "\n",
    "Load the API key from our `.env` file for secure credential management:"
   ]
  },
  {
   "cell_type": "code",
   "execution_count": 5,
   "id": "00d16e85",
   "metadata": {},
   "outputs": [
    {
     "data": {
      "text/plain": [
       "True"
      ]
     },
     "execution_count": 5,
     "metadata": {},
     "output_type": "execute_result"
    }
   ],
   "source": [
    "load_dotenv()  # Load environment variables from .env file"
   ]
  },
  {
   "cell_type": "markdown",
   "id": "975dbc3d",
   "metadata": {},
   "source": [
    "## Initialize the LLM Model\n",
    "\n",
    "Set up Google's Gemini model with our API key. We're using:\n",
    "- **gemini-2.5-flash**: Fast, efficient model perfect for Q&A tasks\n",
    "- **API Key Authentication**: Secure access to Google's services"
   ]
  },
  {
   "cell_type": "code",
   "execution_count": 6,
   "id": "0070431d",
   "metadata": {},
   "outputs": [],
   "source": [
    "api_key = os.getenv(\"GEMINI_API_KEY\")\n",
    "\n",
    "model = ChatGoogleGenerativeAI(\n",
    "    model=\"gemini-2.5-flash\",\n",
    "    google_api_key=api_key  \n",
    ")"
   ]
  },
  {
   "cell_type": "markdown",
   "id": "e2baff3e",
   "metadata": {},
   "source": [
    "## Define the State Structure\n",
    "\n",
    "Our workflow state is simple but effective:\n",
    "- **question**: The user's input question (string)\n",
    "- **answer**: The LLM's generated response (string)\n",
    "\n",
    "This state will flow through our workflow, getting populated as we process the question."
   ]
  },
  {
   "cell_type": "code",
   "execution_count": null,
   "id": "28146064",
   "metadata": {},
   "outputs": [],
   "source": [
    "# create state\n",
    "class LLMState(TypedDict):\n",
    "    question: str\n",
    "    answer: str"
   ]
  },
  {
   "cell_type": "markdown",
   "id": "e5afb9a9",
   "metadata": {},
   "source": [
    "## LLM Question-Answer Function\n",
    "\n",
    "This is our core processing function that:\n",
    "\n",
    "1. **Extracts the question** from the current state\n",
    "2. **Creates a prompt** with clear instructions for the LLM\n",
    "3. **Invokes the Gemini model** to get a response\n",
    "4. **Updates the state** with the generated answer\n",
    "\n",
    "The function follows LangGraph conventions by taking and returning the complete state."
   ]
  },
  {
   "cell_type": "code",
   "execution_count": 9,
   "id": "9e69663a",
   "metadata": {},
   "outputs": [],
   "source": [
    "def llm_qa(state: LLMState) -> LLMState:\n",
    "    question = state[\"question\"]\n",
    "\n",
    "    prompt = f\"Answer the following question concisely:\\n{question}\"\n",
    "    response = model.invoke(prompt).content\n",
    "    \n",
    "    state[\"answer\"] = response\n",
    "    return state"
   ]
  },
  {
   "cell_type": "markdown",
   "id": "38baa47f",
   "metadata": {},
   "source": [
    "## Build the Workflow Graph\n",
    "\n",
    "Now we'll create our LangGraph workflow:\n",
    "\n",
    "1. **Initialize StateGraph**: Create a graph with our `LLMState` structure\n",
    "2. **Add Node**: Add our `llm_qa` function as the single processing node\n",
    "3. **Define Flow**: Connect START → LLM_QA → END\n",
    "4. **Compile**: Create the executable workflow\n",
    "\n",
    "This is the simplest possible workflow: a straight line from start to finish with one processing step.\n",
    "\n",
    "<img src=\"simple_llm.png\">"
   ]
  },
  {
   "cell_type": "code",
   "execution_count": 10,
   "id": "0173d7a1",
   "metadata": {},
   "outputs": [],
   "source": [
    "# create graph\n",
    "\n",
    "llm_graph = StateGraph(LLMState)\n",
    "\n",
    "# add nodes\n",
    "llm_graph.add_node(\"LLM_QA\", llm_qa)\n",
    "\n",
    "\n",
    "# add edges\n",
    "llm_graph.add_edge(START, \"LLM_QA\")\n",
    "llm_graph.add_edge(\"LLM_QA\", END)\n",
    "\n",
    "# create workflow\n",
    "workflow = llm_graph.compile()\n",
    " "
   ]
  },
  {
   "cell_type": "markdown",
   "id": "2b753b34",
   "metadata": {},
   "source": [
    "## Execute the Workflow\n",
    "\n",
    "Let's test our LLM workflow with a sample question about geography. \n",
    "\n",
    "**Test Question**: \"What is the capital of France?\"\n",
    "\n",
    "The workflow will:\n",
    "1. Start with our initial state containing the question\n",
    "2. Process it through the LLM_QA node\n",
    "3. Return the final state with both question and answer"
   ]
  },
  {
   "cell_type": "code",
   "execution_count": 11,
   "id": "99ebd398",
   "metadata": {},
   "outputs": [
    {
     "name": "stdout",
     "output_type": "stream",
     "text": [
      "{'question': 'What is the capital of France?', 'answer': 'Paris'}\n"
     ]
    }
   ],
   "source": [
    "# execute workflow\n",
    "initial_state = { \n",
    "    \"question\": \"What is the capital of France?\"\n",
    "}\n",
    "\n",
    "final_state = workflow.invoke(initial_state)\n",
    "print(final_state)"
   ]
  },
  {
   "cell_type": "markdown",
   "id": "26f00297",
   "metadata": {},
   "source": [
    "## Visualize the Workflow\n",
    "\n",
    "Let's see a visual representation of our simple workflow graph:"
   ]
  },
  {
   "cell_type": "code",
   "execution_count": 12,
   "id": "657a1a83",
   "metadata": {},
   "outputs": [
    {
     "data": {
      "image/png": "[encoded data removed]",
      "text/plain": [
       "<IPython.core.display.Image object>"
      ]
     },
     "execution_count": 12,
     "metadata": {},
     "output_type": "execute_result"
    }
   ],
   "source": [
    "from IPython.display import Image\n",
    "Image(workflow.get_graph().draw_mermaid_png())"
   ]
  }
 ],
 "metadata": {
  "kernelspec": {
   "display_name": "venv",
   "language": "python",
   "name": "python3"
  },
  "language_info": {
   "codemirror_mode": {
    "name": "ipython",
    "version": 3
   },
   "file_extension": ".py",
   "mimetype": "text/x-python",
   "name": "python",
   "nbconvert_exporter": "python",
   "pygments_lexer": "ipython3",
   "version": "3.10.11"
  }
 },
 "nbformat": 4,
 "nbformat_minor": 5
}
