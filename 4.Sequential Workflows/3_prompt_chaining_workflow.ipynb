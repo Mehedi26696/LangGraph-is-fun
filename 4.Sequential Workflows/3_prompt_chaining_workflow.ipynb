{
 "cells": [
  {
   "cell_type": "code",
   "execution_count": 29,
   "id": "45d76b10",
   "metadata": {},
   "outputs": [],
   "source": [
    "from langgraph.graph import StateGraph, START, END\n",
    "from langchain_google_genai import ChatGoogleGenerativeAI\n",
    "from typing import TypedDict\n",
    "from dotenv import load_dotenv\n",
    "import os"
   ]
  },
  {
   "cell_type": "code",
   "execution_count": 30,
   "id": "750251de",
   "metadata": {},
   "outputs": [
    {
     "data": {
      "text/plain": [
       "True"
      ]
     },
     "execution_count": 30,
     "metadata": {},
     "output_type": "execute_result"
    }
   ],
   "source": [
    "load_dotenv() # Load environment variables from .env file"
   ]
  },
  {
   "cell_type": "code",
   "execution_count": 31,
   "id": "0e110c91",
   "metadata": {},
   "outputs": [],
   "source": [
    "api_key = os.getenv(\"GEMINI_API_KEY\")\n",
    "\n",
    "model = ChatGoogleGenerativeAI(\n",
    "    model=\"gemini-2.5-flash\",\n",
    "    google_api_key=api_key  \n",
    ")"
   ]
  },
  {
   "cell_type": "code",
   "execution_count": 32,
   "id": "e9db9c85",
   "metadata": {},
   "outputs": [],
   "source": [
    "# define state \n",
    "\n",
    "class BlogState(TypedDict):\n",
    "    title: str\n",
    "    outline: str\n",
    "    content: str\n",
    "    evaluation_score: str"
   ]
  },
  {
   "cell_type": "code",
   "execution_count": 33,
   "id": "60437239",
   "metadata": {},
   "outputs": [],
   "source": [
    "def create_outline(state: BlogState) -> BlogState:\n",
    "    \n",
    "    # fetch title from state\n",
    "    title = state[\"title\"]\n",
    "\n",
    "    # call model to create outline \n",
    "\n",
    "    prompt = f\"Create a detailed outline for a blog post titled: '{title}'\"\n",
    "\n",
    "    outline = model.invoke(prompt).content\n",
    "\n",
    "    # update state with outline\n",
    "    state[\"outline\"] = outline\n",
    "    return state"
   ]
  },
  {
   "cell_type": "code",
   "execution_count": 34,
   "id": "eac9053d",
   "metadata": {},
   "outputs": [],
   "source": [
    "def create_blog_content(state: BlogState) -> BlogState:\n",
    "    \n",
    "    # fetch title and outline from state\n",
    "    title = state[\"title\"]\n",
    "    outline = state[\"outline\"]\n",
    "\n",
    "    # call model to create content \n",
    "\n",
    "    prompt = f\"Write a detailed blog post titled: '{title}' based on the following outline:\\n{outline}\"\n",
    "\n",
    "    content = model.invoke(prompt).content\n",
    "\n",
    "    # update state with content\n",
    "    state[\"content\"] = content\n",
    "    return state"
   ]
  },
  {
   "cell_type": "code",
   "execution_count": 35,
   "id": "82739734",
   "metadata": {},
   "outputs": [],
   "source": [
    "def evaluate_blog(state: BlogState) -> BlogState:\n",
    "    \n",
    "    # fetch content from state\n",
    "    content = state[\"content\"]\n",
    "\n",
    "    # call model to evaluate content quality\n",
    "\n",
    "    prompt = f\"Evaluate the quality of the following blog post content on a scale of 1 to 10:\\n{content}\"\n",
    "\n",
    "    evaluation = model.invoke(prompt).content\n",
    "\n",
    "     \n",
    "\n",
    "    # update state with evaluation score\n",
    "    state[\"evaluation_score\"] = evaluation\n",
    "    return state"
   ]
  },
  {
   "cell_type": "markdown",
   "id": "314ff536",
   "metadata": {},
   "source": [
    "<img src=\"prompt_chain.png\">"
   ]
  },
  {
   "cell_type": "code",
   "execution_count": 36,
   "id": "54dc79c8",
   "metadata": {},
   "outputs": [],
   "source": [
    "blog_graph = StateGraph(BlogState)\n",
    "\n",
    "# nodes\n",
    "\n",
    "blog_graph.add_node(\"create_outline\", create_outline)\n",
    "blog_graph.add_node(\"create_blog_content\", create_blog_content)\n",
    "blog_graph.add_node(\"evaluate_blog\", evaluate_blog)\n",
    "\n",
    "# edges\n",
    "\n",
    "blog_graph.add_edge(START, \"create_outline\")\n",
    "blog_graph.add_edge(\"create_outline\", \"create_blog_content\")\n",
    "blog_graph.add_edge(\"create_blog_content\", \"evaluate_blog\")\n",
    "blog_graph.add_edge(\"evaluate_blog\", END)\n",
    "\n",
    "# compile graph\n",
    "\n",
    "blog_workflow = blog_graph.compile()\n",
    "\n"
   ]
  },
  {
   "cell_type": "code",
   "execution_count": 37,
   "id": "701bbbff",
   "metadata": {},
   "outputs": [],
   "source": [
    "# Define intial state\n",
    "initial_state = {\n",
    "    \"title\": \"The Future of Artificial Intelligence in Everyday Life\"  \n",
    "}"
   ]
  },
  {
   "cell_type": "code",
   "execution_count": 38,
   "id": "30797c68",
   "metadata": {},
   "outputs": [],
   "source": [
    "# execute workflow\n",
    "\n",
    "final_state = blog_workflow.invoke(initial_state)"
   ]
  },
  {
   "cell_type": "code",
   "execution_count": 41,
   "id": "de4f2478",
   "metadata": {},
   "outputs": [
    {
     "name": "stdout",
     "output_type": "stream",
     "text": [
      "Blog Title: The Future of Artificial Intelligence in Everyday Life\n"
     ]
    }
   ],
   "source": [
    "print(\"Blog Title:\", final_state[\"title\"])"
   ]
  },
  {
   "cell_type": "code",
   "execution_count": 42,
   "id": "9a60b3a9",
   "metadata": {},
   "outputs": [
    {
     "name": "stdout",
     "output_type": "stream",
     "text": [
      "Blog Outline: Okay, here's a detailed outline for a blog post titled \"The Future of Artificial Intelligence in Everyday Life.\" This outline aims for a comprehensive yet engaging exploration, suitable for a general audience interested in technology's impact.\n",
      "\n",
      "---\n",
      "\n",
      "## Blog Post Outline: The Future of Artificial Intelligence in Everyday Life\n",
      "\n",
      "**Blog Post Title:** The Future of Artificial Intelligence in Everyday Life\n",
      "\n",
      "**Target Audience:** Tech-curious individuals, general public, students, professionals interested in future trends.\n",
      "\n",
      "**Goal:** To inform and excite readers about the tangible ways AI will integrate into and transform their daily lives, while also acknowledging key considerations.\n",
      "\n",
      "---\n",
      "\n",
      "### I. Introduction (Approx. 150-200 words)\n",
      "\n",
      "*   **A. Hook:** Start with a relatable scenario – current AI (Siri, Netflix recommendations, smart thermostats) and how it's already subtly present.\n",
      "    *   *Example:* \"From asking Alexa about the weather to getting personalized movie recommendations, AI is no longer a futuristic concept, but an invisible assistant in our daily routines.\"\n",
      "*   **B. Bridge to the Future:** Emphasize that what we see now is just the tip of the iceberg. The *real* transformation is yet to come, moving from reactive tools to proactive, intuitive companions.\n",
      "*   **C. Thesis Statement:** Clearly state the blog post's purpose – to explore how AI will profoundly integrate into various facets of our everyday lives, from our homes and health to work and leisure, shaping a more intelligent and personalized future.\n",
      "*   **D. Brief Roadmap:** Briefly mention the key areas the post will cover (e.g., home, health, transport, work, ethics).\n",
      "\n",
      "### II. AI in the Smart Home & Personal Life (Approx. 250-300 words)\n",
      "\n",
      "*   **A. Beyond Voice Assistants: The Proactive Home**\n",
      "    *   **1. Predictive Home Management:** AI anticipating needs (e.g., adjusting thermostat before you arrive, ordering groceries when supplies are low, pre-heating oven based on your schedule).\n",
      "    *   **2. Personalized Environments:** Homes adapting to individual preferences (lighting, music, temperature) based on who is present and their mood.\n",
      "    *   **3. Enhanced Security & Safety:** AI-powered surveillance detecting anomalies, smart locks learning routines, fall detection for the elderly.\n",
      "    *   **4. Seamless Integration:** All devices communicating intelligently, not just responding to commands but acting autonomously for comfort and efficiency.\n",
      "*   **B. AI as a Personal Life Organizer:**\n",
      "    *   **1. Hyper-Personalized Assistants:** Beyond calendars and reminders – AI managing complex schedules, suggesting optimal routes, handling administrative tasks.\n",
      "    *   **2. Digital Companionship:** AI chatbots offering conversational support, learning preferences, and even emotional companionship (e.g., for elderly or isolated individuals).\n",
      "*   **C. Considerations:** Privacy concerns with extensive data collection, interoperability challenges between different smart devices.\n",
      "\n",
      "### III. Revolutionizing Healthcare & Wellness (Approx. 250-300 words)\n",
      "\n",
      "*   **A. Personalized & Predictive Health:**\n",
      "    *   **1. AI-Powered Diagnostics:** Early disease detection through advanced image analysis (X-rays, MRIs) and pattern recognition in health data.\n",
      "    *   **2. Customized Treatment Plans:** AI analyzing genetic data, medical history, and lifestyle to recommend highly individualized treatments and medication dosages.\n",
      "    *   **3. Proactive Wellness Monitoring:** Wearable devices with AI continuously tracking vital signs, predicting potential health issues before symptoms appear, and offering personalized wellness advice.\n",
      "*   **B. Virtual Health Assistants & Therapists:**\n",
      "    *   **1. On-Demand Medical Advice:** AI chatbots providing reliable information, answering common health questions, and triaging symptoms to guide users to appropriate care.\n",
      "    *   **2. Mental Health Support:** AI-driven apps offering cognitive behavioral therapy (CBT) exercises, mindfulness coaching, and emotional support, available 24/7.\n",
      "*   **C. Considerations:** Data security and ethical use of sensitive health information, maintaining the \"human touch\" in healthcare.\n",
      "\n",
      "### IV. Transforming Transportation & Mobility (Approx. 200-250 words)\n",
      "\n",
      "*   **A. Autonomous Vehicles as the Norm:**\n",
      "    *   **1. Self-Driving Cars:** Reduced accidents, increased efficiency, and freeing up commute time for work or leisure.\n",
      "    *   **2. Public Transportation:** AI optimizing routes, schedules, and vehicle allocation for buses, trains, and ride-sharing services.\n",
      "    *   **3. Drone Delivery & Logistics:** AI managing complex delivery networks for goods, reducing traffic congestion and speeding up delivery times.\n",
      "*   **B. Smart City Infrastructure:**\n",
      "    *   **1. Intelligent Traffic Management:** AI optimizing traffic light timings, predicting congestion, and rerouting vehicles in real-time.\n",
      "    *   **2. Personalized Mobility Services:** AI suggesting the best mode of transport (walk, bike, public, autonomous car) based on user preferences, weather, and real-time conditions.\n",
      "*   **C. Considerations:** Job displacement for drivers, ethical dilemmas in accident scenarios, robust cybersecurity for vehicle systems.\n",
      "\n",
      "### V. Enhancing Work & Productivity (Approx. 200-250 words)\n",
      "\n",
      "*   **A. AI as a Co-Worker & Assistant:**\n",
      "    *   **1. Automation of Repetitive Tasks:** AI handling data entry, scheduling, report generation, freeing humans for more creative and strategic work.\n",
      "    *   **2. Intelligent Decision Support:** AI analyzing vast datasets to provide insights, predict market trends, and assist in complex decision-making.\n",
      "    *   **3. Enhanced Creativity & Innovation:** AI assisting with brainstorming, content generation (text, images, code), and design, acting as a creative partner.\n",
      "*   **B. Personalized Learning & Skill Development:**\n",
      "    *   **1. Adaptive Training Programs:** AI identifying skill gaps and creating tailored learning paths for employees, ensuring continuous upskilling.\n",
      "    *   **2. Virtual Mentors & Coaches:** AI providing personalized feedback, career guidance, and performance coaching.\n",
      "*   **C. Considerations:** Job evolution (not just displacement), need for new skills (AI literacy, critical thinking), ethical use of AI in hiring and performance reviews.\n",
      "\n",
      "### VI. Societal Implications & Challenges (Approx. 200-250 words)\n",
      "\n",
      "*   **A. Ethical AI & Bias:** The importance of developing AI systems that are fair, transparent, and free from human biases embedded in training data.\n",
      "*   **B. Privacy & Data Security:** The increasing volume of personal data collected by AI necessitates robust privacy frameworks and cybersecurity measures.\n",
      "*   **C. The Future of Work & Economic Impact:** The need for reskilling initiatives, universal basic income discussions, and adapting economic models to AI's influence.\n",
      "*   **D. Digital Divide:** Ensuring equitable access to AI technologies to prevent widening socio-economic gaps.\n",
      "*   **E. Regulation & Governance:** The critical role of governments and international bodies in establishing ethical guidelines and legal frameworks for AI development and deployment.\n",
      "\n",
      "### VII. Conclusion (Approx. 150-200 words)\n",
      "\n",
      "*   **A. Recap:** Briefly summarize the key areas where AI will transform everyday life (home, health, transport, work).\n",
      "*   **B. Reiterate Thesis:** Emphasize that AI's future isn't just about advanced technology, but about a fundamental shift towards a more intuitive, personalized, and efficient human experience.\n",
      "*   **C. The Human Element:** Stress that AI is a tool designed to augment human capabilities, not replace humanity. The future requires collaboration between humans and intelligent machines.\n",
      "*   **D. Call to Action/Forward Look:** Encourage readers to engage with AI responsibly, advocate for ethical development, and prepare for a future where AI is an integral, beneficial part of daily existence.\n",
      "    *   *Engagement Question:* \"What aspect of AI's future in everyday life excites or concerns you the most? Share your thoughts in the comments below!\"\n",
      "\n",
      "---\n"
     ]
    }
   ],
   "source": [
    "print(\"Blog Outline:\", final_state[\"outline\"])"
   ]
  },
  {
   "cell_type": "code",
   "execution_count": 43,
   "id": "1a92e011",
   "metadata": {},
   "outputs": [
    {
     "name": "stdout",
     "output_type": "stream",
     "text": [
      "Blog Content: ## The Future of Artificial Intelligence in Everyday Life\n",
      "\n",
      "From asking Alexa about the weather to getting personalized movie recommendations on Netflix, or having your smart thermostat learn your preferred temperature, Artificial Intelligence is no longer a futuristic concept. It's an invisible assistant, subtly woven into the fabric of our daily routines, making countless tasks a little easier, a little smarter.\n",
      "\n",
      "But what we see today is merely the tip of the iceberg. The *real* transformation is yet to come, moving AI from reactive tools that respond to our commands to proactive, intuitive companions that anticipate our needs. This isn't science fiction; it's the imminent reality. This blog post will explore how AI is poised to profoundly integrate into various facets of our everyday lives – from our homes and health to work and leisure – shaping a more intelligent, personalized, and efficient future for all of us. Join us as we journey into the near future, examining the profound impact AI will have on how we live, work, and interact with the world.\n",
      "\n",
      "### AI in the Smart Home & Personal Life\n",
      "\n",
      "Imagine a home that doesn't just respond to your commands but *anticipates* your needs. This is the future of AI in the smart home. Beyond today's voice assistants, we're moving towards **proactive home management**. Your AI-powered home could adjust the thermostat before you arrive, order groceries when supplies are low based on your consumption patterns, or even pre-heat the oven based on your dinner plans. Homes will become **personalized environments**, adapting lighting, music, and temperature to individual preferences based on who is present and even their detected mood.\n",
      "\n",
      "**Enhanced security and safety** will also see a revolution. AI-powered surveillance systems will not just record, but detect anomalies and alert you to potential threats. Smart locks will learn your routines, and for elderly residents, AI-driven fall detection systems will provide immediate assistance. The goal is **seamless integration**, where all devices communicate intelligently, not just responding to commands but acting autonomously for optimal comfort and efficiency.\n",
      "\n",
      "Beyond the home, AI will become your ultimate **personal life organizer**. Hyper-personalized assistants will move beyond simple calendars and reminders, managing complex schedules, suggesting optimal routes based on real-time data, and handling administrative tasks with minimal input. Furthermore, AI could offer **digital companionship**, with sophisticated chatbots providing conversational support, learning your preferences, and potentially offering emotional companionship, especially beneficial for the elderly or isolated individuals. Of course, this deep integration raises important **considerations**: the extensive data collection will necessitate robust privacy frameworks, and interoperability challenges between different smart device ecosystems will need to be overcome.\n",
      "\n",
      "### Revolutionizing Healthcare & Wellness\n",
      "\n",
      "The future of healthcare will be defined by AI's ability to offer **personalized and predictive health solutions**. We'll see a surge in **AI-powered diagnostics**, where advanced algorithms analyze medical images (X-rays, MRIs) and complex health data patterns to detect diseases earlier and with greater accuracy than human eyes alone. This will lead to **customized treatment plans**, with AI analyzing individual genetic data, medical history, and lifestyle factors to recommend highly individualized treatments and precise medication dosages. **Proactive wellness monitoring** will become the norm; wearable devices, enhanced with AI, will continuously track vital signs, predict potential health issues before symptoms even appear, and offer personalized wellness advice, from diet adjustments to exercise routines.\n",
      "\n",
      "Complementing traditional medical professionals, **virtual health assistants and therapists** will become readily available. AI chatbots will provide on-demand, reliable medical information, answer common health questions, and effectively triage symptoms to guide users to the most appropriate level of care. For mental health, AI-driven apps will offer accessible support, providing cognitive behavioral therapy (CBT) exercises, mindfulness coaching, and emotional support, available 24/7. While the potential is immense, crucial **considerations** include ensuring the absolute security and ethical use of sensitive health information, and carefully balancing AI's efficiency with the irreplaceable \"human touch\" that is fundamental to compassionate healthcare.\n",
      "\n",
      "### Transforming Transportation & Mobility\n",
      "\n",
      "The way we move will be fundamentally transformed by AI, with **autonomous vehicles becoming the norm**. Self-driving cars promise a future with significantly reduced accidents, increased road efficiency, and the liberation of commute time for work, rest, or leisure. **Public transportation** will also be revolutionized, with AI optimizing routes, schedules, and vehicle allocation for buses, trains, and even ride-sharing services, making urban transit smoother and more responsive. Beyond passenger transport, **drone delivery and logistics** will see AI managing complex networks for goods, drastically reducing traffic congestion and speeding up delivery times.\n",
      "\n",
      "Our cities themselves will become smarter, thanks to **smart city infrastructure**. AI will power **intelligent traffic management systems**, optimizing traffic light timings in real-time, predicting congestion hotspots, and rerouting vehicles dynamically to keep traffic flowing. **Personalized mobility services** will emerge, with AI suggesting the best mode of transport (walking, biking, public transit, autonomous car) based on user preferences, current weather conditions, and real-time traffic data. However, this transformation comes with significant **considerations**: potential job displacement for professional drivers, complex ethical dilemmas in accident scenarios involving autonomous vehicles, and the critical need for robust cybersecurity to protect interconnected vehicle systems from malicious attacks.\n",
      "\n",
      "### Enhancing Work & Productivity\n",
      "\n",
      "AI is set to become an indispensable **co-worker and assistant** across all industries. The automation of repetitive tasks will accelerate, with AI handling data entry, scheduling, report generation, and other mundane duties, freeing human employees for more creative, strategic, and interpersonal work. **Intelligent decision support systems** will analyze vast datasets to provide invaluable insights, predict market trends, and assist in complex decision-making processes, augmenting human judgment. Furthermore, AI will become a powerful partner in **enhancing creativity and innovation**, assisting with brainstorming, generating content (text, images, code), and refining designs, pushing the boundaries of what's possible.\n",
      "\n",
      "The future workforce will also benefit from **personalized learning and skill development** driven by AI. Adaptive training programs will identify individual skill gaps and create tailored learning paths for employees, ensuring continuous upskilling and relevance in a rapidly evolving job market. We'll also see the rise of **virtual mentors and coaches**, with AI providing personalized feedback, career guidance, and performance coaching, democratizing access to professional development. The **considerations** here are profound: job evolution will require a societal shift in focus from displacement to re-skilling, fostering new competencies like AI literacy and critical thinking. Ethical guidelines will be crucial for the use of AI in hiring, performance reviews, and workplace monitoring to ensure fairness and prevent bias.\n",
      "\n",
      "### Societal Implications & Challenges\n",
      "\n",
      "As AI becomes more ingrained in our lives, addressing its broader societal implications and challenges is paramount. Developing **ethical AI and combating bias** is critical; systems must be designed to be fair, transparent, and free from the human biases inadvertently embedded in their training data. The sheer volume of personal data collected by AI necessitates robust **privacy and data security** frameworks and advanced cybersecurity measures to protect individuals from misuse and breaches.\n",
      "\n",
      "The **future of work and economic impact** will require careful navigation. While AI creates new jobs, it will also automate existing ones, prompting discussions around re-skilling initiatives, universal basic income (UBI), and adapting economic models to AI's influence. We must also address the potential for a **digital divide**, ensuring equitable access to AI technologies to prevent widening socio-economic gaps between those who can leverage AI and those who cannot. Finally, **regulation and governance** will play a critical role; governments and international bodies must collaborate to establish clear ethical guidelines and legal frameworks for AI's responsible development and deployment, safeguarding human values in an increasingly intelligent world.\n",
      "\n",
      "### Conclusion\n",
      "\n",
      "The future of Artificial Intelligence in everyday life promises a landscape of unprecedented convenience, personalization, and efficiency. We've explored how AI will transform our homes into proactive, intelligent sanctuaries, revolutionize healthcare with predictive diagnostics and personalized wellness, reshape transportation with autonomous mobility, and enhance productivity and creativity in our workplaces.\n",
      "\n",
      "Ultimately, AI's future isn't just about advanced technology; it's about a fundamental shift towards a more intuitive, personalized, and efficient human experience. It's crucial to remember that AI is a powerful tool designed to augment human capabilities, not replace humanity. The future demands a collaborative relationship between humans and intelligent machines, where technology serves as an enabler for a better quality of life.\n",
      "\n",
      "As we stand on the precipice of this intelligent future, it's incumbent upon all of us to engage with AI responsibly, advocate for its ethical development, and prepare for a world where AI is an integral, beneficial part of our daily existence.\n",
      "\n",
      "What aspect of AI's future in everyday life excites or concerns you the most? Share your thoughts in the comments below!\n"
     ]
    }
   ],
   "source": [
    "print(\"Blog Content:\", final_state[\"content\"])"
   ]
  },
  {
   "cell_type": "code",
   "execution_count": 44,
   "id": "85140cb5",
   "metadata": {},
   "outputs": [
    {
     "name": "stdout",
     "output_type": "stream",
     "text": [
      "Blog Evaluation Score: ## Evaluation of \"The Future of Artificial Intelligence in Everyday Life\"\n",
      "\n",
      "**Overall Quality Score: 9/10**\n",
      "\n",
      "This is an exceptionally well-written and comprehensive blog post that effectively achieves its goal of exploring the near-future integration of AI into everyday life.\n",
      "\n",
      "Here's a breakdown of its strengths and minor areas for improvement:\n",
      "\n",
      "**Strengths:**\n",
      "\n",
      "1.  **Engaging Introduction:** The post starts with relatable examples of current AI, immediately drawing the reader in and establishing the premise that AI is already here, but the *real* transformation is yet to come. The \"tip of the iceberg\" analogy is effective.\n",
      "2.  **Clear Structure and Flow:** The blog post is logically organized into distinct, easy-to-follow sections (Smart Home, Healthcare, Transportation, Work, Societal Implications). Each section has a clear heading and cohesive paragraphs, making it easy for the reader to digest information.\n",
      "3.  **Comprehensive Coverage:** It covers a broad spectrum of everyday life facets, from personal homes and health to work and societal challenges. This breadth ensures a holistic view of AI's potential impact.\n",
      "4.  **Forward-Thinking but Realistic:** The post successfully paints a picture of a proactive, anticipatory AI rather than just reactive tools. It projects plausible future scenarios without veering into overly speculative science fiction, making the content feel relevant and achievable.\n",
      "5.  **Balanced Perspective (Crucial for a 9/10):** A significant strength is the consistent inclusion of \"considerations\" or \"challenges\" within each section and a dedicated \"Societal Implications & Challenges\" section. This demonstrates a thoughtful, responsible approach, acknowledging potential downsides like privacy, ethical dilemmas, job displacement, and the digital divide. This balance elevates the post beyond mere technological hype.\n",
      "6.  **Accessible Language:** The language is clear, concise, and free of excessive technical jargon, making it approachable for a general audience interested in technology.\n",
      "7.  **Strong Examples:** Each section provides concrete, imaginative examples of how AI will manifest, such as AI pre-heating ovens based on dinner plans, predicting health issues from wearables, or optimizing public transport routes.\n",
      "8.  **Positive yet Responsible Tone:** The tone is optimistic about AI's potential to improve life but maintains a sense of responsibility regarding its ethical development and societal impact.\n",
      "9.  **Effective Conclusion:** The conclusion effectively summarizes the main points and reinforces the idea of AI as an augmentation of human capabilities, not a replacement. It also includes a good call to action for reader engagement.\n",
      "\n",
      "**Areas for Minor Improvement (Why not a 10/10):**\n",
      "\n",
      "1.  **Originality of Core Ideas (Slightly):** While the *synthesis* and presentation are excellent, many of the specific future applications mentioned (self-driving cars, smart home automation, AI diagnostics) are common talking points in discussions about AI. The blog post's strength lies more in its comprehensive organization and balanced discussion of these ideas rather than introducing entirely novel concepts.\n",
      "2.  **Lack of Specific Examples (Companies/Projects):** While it uses hypothetical examples well, including one or two brief mentions of actual companies or research projects that are *already* working on these advanced concepts could lend even more credibility and tangibility to the \"imminent reality\" claim. (e.g., \"companies like X are already testing Y\"). However, this might make the post longer than intended for a general blog.\n",
      "\n",
      "**Conclusion:**\n",
      "\n",
      "This blog post is a fantastic piece of content. It's informative, well-structured, engaging, and critically, presents a balanced view of AI's future. It effectively educates the reader on the vast potential of AI while responsibly highlighting the challenges that must be addressed. It's a high-quality example of how to discuss a complex technological topic for a general audience.\n"
     ]
    }
   ],
   "source": [
    "print(\"Blog Evaluation Score:\", final_state[\"evaluation_score\"])"
   ]
  },
  {
   "cell_type": "code",
   "execution_count": 40,
   "id": "40b14b90",
   "metadata": {},
   "outputs": [
    {
     "data": {
      "image/png": "[encoded data removed]",
      "text/plain": [
       "<IPython.core.display.Image object>"
      ]
     },
     "execution_count": 40,
     "metadata": {},
     "output_type": "execute_result"
    }
   ],
   "source": [
    "from IPython.display import Image\n",
    "Image(blog_workflow.get_graph().draw_mermaid_png())"
   ]
  }
 ],
 "metadata": {
  "kernelspec": {
   "display_name": "venv",
   "language": "python",
   "name": "python3"
  },
  "language_info": {
   "codemirror_mode": {
    "name": "ipython",
    "version": 3
   },
   "file_extension": ".py",
   "mimetype": "text/x-python",
   "name": "python",
   "nbconvert_exporter": "python",
   "pygments_lexer": "ipython3",
   "version": "3.10.11"
  }
 },
 "nbformat": 4,
 "nbformat_minor": 5
}
