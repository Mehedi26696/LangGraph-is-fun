{
 "cells": [
  {
   "cell_type": "markdown",
   "id": "47911177",
   "metadata": {},
   "source": [
    "# BMI Calculator Workflow with LangGraph\n",
    "\n",
    "This notebook demonstrates how to create a simple **sequential workflow** using LangGraph to calculate Body Mass Index (BMI) and categorize the result.\n",
    "\n",
    "## What is BMI?\n",
    "Body Mass Index (BMI) is a measure that uses height and weight to determine if a person's weight is healthy. The formula is:\n",
    "\n",
    "**BMI = weight (kg) / height (m)²**\n",
    "\n",
    "## Workflow Overview\n",
    "Our workflow consists of two sequential steps:\n",
    "1. **Calculate BMI**: Takes height and weight, computes the BMI value\n",
    "2. **Categorize BMI**: Takes the calculated BMI and assigns a health category\n",
    "\n",
    "Let's build this step by step!"
   ]
  },
  {
   "cell_type": "markdown",
   "id": "4eb97062",
   "metadata": {},
   "source": [
    "## Import Required Libraries\n",
    "\n",
    "First, let's import the necessary components from LangGraph to build our workflow:"
   ]
  },
  {
   "cell_type": "code",
   "execution_count": 9,
   "id": "816f71ec",
   "metadata": {},
   "outputs": [],
   "source": [
    "from langgraph.graph import StateGraph, START, END\n",
    "from typing import TypedDict"
   ]
  },
  {
   "cell_type": "markdown",
   "id": "0c0fafbd",
   "metadata": {},
   "source": [
    "## Define the State Structure\n",
    "\n",
    "In LangGraph, we use a **TypedDict** to define the structure of our state. This state will be passed between nodes in our workflow and will store all the data we need."
   ]
  },
  {
   "cell_type": "code",
   "execution_count": 10,
   "id": "cdbdb53e",
   "metadata": {},
   "outputs": [],
   "source": [
    "# define state\n",
    "\n",
    "class BMIState(TypedDict):\n",
    "    height: float  # in meters\n",
    "    weight: float  # in kilograms\n",
    "    bmi: float     # body mass index\n",
    "    category: str  # BMI category"
   ]
  },
  {
   "cell_type": "markdown",
   "id": "95c5dcfa",
   "metadata": {},
   "source": [
    "## Step 1: BMI Calculation Function\n",
    "\n",
    "This function takes the height and weight from our state and calculates the BMI using the standard formula. The result is rounded to 2 decimal places for better readability."
   ]
  },
  {
   "cell_type": "code",
   "execution_count": 11,
   "id": "2a437a8b",
   "metadata": {},
   "outputs": [],
   "source": [
    "def calculate_bmi(state: BMIState) -> BMIState:\n",
    "    weight = state['weight']\n",
    "    height = state['height']\n",
    "    bmi = weight / (height ** 2)\n",
    "    state['bmi'] = round(bmi, 2)\n",
    "    \n",
    "    return state"
   ]
  },
  {
   "cell_type": "markdown",
   "id": "0773b9e8",
   "metadata": {},
   "source": [
    "## Step 2: BMI Categorization Function\n",
    "\n",
    "This function takes the calculated BMI and categorizes it according to standard health guidelines:\n",
    "\n",
    "- **Underweight**: BMI < 18.5\n",
    "- **Normal weight**: BMI 18.5 - 24.9\n",
    "- **Overweight**: BMI 25.0 - 29.9  \n",
    "- **Obesity**: BMI ≥ 30.0"
   ]
  },
  {
   "cell_type": "code",
   "execution_count": 12,
   "id": "0898739a",
   "metadata": {},
   "outputs": [],
   "source": [
    "def label_bmi_category(state: BMIState) -> BMIState:\n",
    "    bmi = state['bmi']\n",
    "    \n",
    "    if bmi < 18.5:\n",
    "        category = 'Underweight'\n",
    "    elif 18.5 <= bmi < 24.9:\n",
    "        category = 'Normal weight'\n",
    "    elif 25 <= bmi < 29.9:\n",
    "        category = 'Overweight'\n",
    "    else:\n",
    "        category = 'Obesity'\n",
    "        \n",
    "    state['category'] = category\n",
    "    return state"
   ]
  },
  {
   "cell_type": "markdown",
   "id": "bac58e62",
   "metadata": {},
   "source": [
    "## Building the Workflow Graph\n",
    "\n",
    "Now we'll create our LangGraph workflow by:\n",
    "\n",
    "1. **Creating a StateGraph**: Initialize with our BMIState structure\n",
    "2. **Adding nodes**: Each function becomes a node in our graph\n",
    "3. **Adding edges**: Define the execution flow between nodes\n",
    "4. **Compiling**: Create the executable workflow\n",
    "\n",
    "The flow will be: \n",
    "\n",
    "<img src=\"bmi_workflow.png\">"
   ]
  },
  {
   "cell_type": "code",
   "execution_count": 13,
   "id": "2c966f0c",
   "metadata": {},
   "outputs": [],
   "source": [
    "# define graph\n",
    "\n",
    "bmi_graph = StateGraph(BMIState)\n",
    "\n",
    "# add nodes\n",
    "\n",
    "bmi_graph.add_node('calculate_bmi',calculate_bmi)\n",
    "bmi_graph.add_node('label_bmi_category',label_bmi_category)\n",
    "\n",
    "# add edges\n",
    "\n",
    "bmi_graph.add_edge(START, 'calculate_bmi')\n",
    "bmi_graph.add_edge('calculate_bmi', 'label_bmi_category')\n",
    "bmi_graph.add_edge('label_bmi_category', END)\n",
    "\n",
    "# compile graph\n",
    "\n",
    "workflow =  bmi_graph.compile()\n"
   ]
  },
  {
   "cell_type": "markdown",
   "id": "dc372a87",
   "metadata": {},
   "source": [
    "## Testing the Workflow\n",
    "\n",
    "Let's test our workflow with sample data:\n",
    "- **Height**: 1.75 meters (5'9\")\n",
    "- **Weight**: 70.0 kg (154 lbs)"
   ]
  },
  {
   "cell_type": "code",
   "execution_count": 14,
   "id": "5c675964",
   "metadata": {},
   "outputs": [],
   "source": [
    "intial_state = {\n",
    "    'height': 1.75,\n",
    "    'weight': 70.0 \n",
    "}"
   ]
  },
  {
   "cell_type": "markdown",
   "id": "7b48caa6",
   "metadata": {},
   "source": [
    "### Execute the Workflow\n",
    "\n",
    "Now let's run our workflow and see the results:"
   ]
  },
  {
   "cell_type": "code",
   "execution_count": 15,
   "id": "93f04a8e",
   "metadata": {},
   "outputs": [
    {
     "name": "stdout",
     "output_type": "stream",
     "text": [
      "{'height': 1.75, 'weight': 70.0, 'bmi': 22.86, 'category': 'Normal weight'}\n"
     ]
    }
   ],
   "source": [
    "final_state = workflow.invoke(intial_state)\n",
    "print(final_state)"
   ]
  },
  {
   "cell_type": "markdown",
   "id": "388e546e",
   "metadata": {},
   "source": [
    "## Visualize the Workflow Graph\n",
    "\n",
    "Let's visualize our workflow to better understand the execution flow:"
   ]
  },
  {
   "cell_type": "code",
   "execution_count": 16,
   "id": "8bcc4ec8",
   "metadata": {},
   "outputs": [
    {
     "data": {
      "image/png": "[encoded data removed]",
      "text/plain": [
       "<IPython.core.display.Image object>"
      ]
     },
     "execution_count": 16,
     "metadata": {},
     "output_type": "execute_result"
    }
   ],
   "source": [
    "from IPython.display import Image\n",
    "Image(workflow.get_graph().draw_mermaid_png())"
   ]
  }
 ],
 "metadata": {
  "kernelspec": {
   "display_name": "venv",
   "language": "python",
   "name": "python3"
  },
  "language_info": {
   "codemirror_mode": {
    "name": "ipython",
    "version": 3
   },
   "file_extension": ".py",
   "mimetype": "text/x-python",
   "name": "python",
   "nbconvert_exporter": "python",
   "pygments_lexer": "ipython3",
   "version": "3.10.11"
  }
 },
 "nbformat": 4,
 "nbformat_minor": 5
}
