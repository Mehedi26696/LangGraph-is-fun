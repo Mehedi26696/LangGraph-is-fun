{
 "cells": [
  {
   "cell_type": "code",
   "execution_count": 25,
   "id": "8a26df28",
   "metadata": {},
   "outputs": [],
   "source": [
    "from langgraph.graph import StateGraph, START, END\n",
    "from langchain_google_genai import ChatGoogleGenerativeAI\n",
    "from typing import TypedDict , Annotated\n",
    "from dotenv import load_dotenv\n",
    "import os\n",
    "from pydantic import BaseModel, Field\n",
    "import operator"
   ]
  },
  {
   "cell_type": "code",
   "execution_count": 26,
   "id": "baff70c7",
   "metadata": {},
   "outputs": [
    {
     "data": {
      "text/plain": [
       "True"
      ]
     },
     "execution_count": 26,
     "metadata": {},
     "output_type": "execute_result"
    }
   ],
   "source": [
    "load_dotenv() "
   ]
  },
  {
   "cell_type": "code",
   "execution_count": 27,
   "id": "17dc6ca4",
   "metadata": {},
   "outputs": [],
   "source": [
    "api_key = os.getenv(\"GEMINI_API_KEY\")\n",
    "\n",
    "model = ChatGoogleGenerativeAI(\n",
    "    model=\"gemini-2.5-flash\",\n",
    "    google_api_key=api_key  \n",
    ")"
   ]
  },
  {
   "cell_type": "markdown",
   "id": "f7fa49cf",
   "metadata": {},
   "source": [
    "### 🧠 Workflow Question\n",
    "\n",
    "**Task:**  \n",
    "Make a workflow to **evaluate an essay** based on the following three parameters:\n",
    "\n",
    "1. **Clarity of Thought** – How clearly the ideas are presented and structured.  \n",
    "2. **Language** – The quality, accuracy, and fluency of the language used.  \n",
    "3. **Depth of Analysis** – How well the essay explores, supports, and connects its arguments.\n",
    "\n",
    "**Requirements:**\n",
    "- Each parameter should be evaluated **independently** (preferably using **parallel nodes**).  \n",
    "- Each node should return:\n",
    "  - A **text feedback** (qualitative evaluation)  \n",
    "  - A **numerical score** for that parameter  \n",
    "\n",
    "**Goal:**  \n",
    "After all evaluations are done:\n",
    "- **Merge** the individual outputs into a final summary node.  \n",
    "- The final node should:\n",
    "  - Combine all text feedback into a **summarized feedback report**  \n",
    "  - Calculate the **average score** across the three parameters  \n",
    "  - Return the **final evaluation** containing:\n",
    "    - Combined textual feedback  \n",
    "    - Average numerical score\n"
   ]
  },
  {
   "cell_type": "code",
   "execution_count": 28,
   "id": "54d6abe2",
   "metadata": {},
   "outputs": [],
   "source": [
    "# Define Evaluation Schema\n",
    "\n",
    "class EvaluationSchema(BaseModel):\n",
    "\n",
    "    feedback: str = Field(description=\"Detailed feedback for the essay\")\n",
    "    score:  int = Field(description=\"Score out of 10 for the essay\", ge=0, le=10)\n"
   ]
  },
  {
   "cell_type": "code",
   "execution_count": 29,
   "id": "7a78001b",
   "metadata": {},
   "outputs": [],
   "source": [
    "structured_model = model.with_structured_output(EvaluationSchema)"
   ]
  },
  {
   "cell_type": "code",
   "execution_count": 30,
   "id": "1f804014",
   "metadata": {},
   "outputs": [],
   "source": [
    "essay = \"\"\"In today's rapidly evolving world, technology plays a pivotal role in shaping our lives. \n",
    "From communication to healthcare, technological advancements have revolutionized various sectors, \n",
    "enhancing efficiency, accuracy, and accessibility. The rise of artificial intelligence, automation, \n",
    "and data-driven systems has not only simplified everyday tasks but also transformed industries such \n",
    "as education, transportation, and finance.\n",
    "\n",
    "However, while these innovations bring undeniable benefits, they also introduce new challenges that \n",
    "demand careful consideration. Issues like data privacy, job displacement, and digital addiction \n",
    "highlight the importance of responsible innovation. It is essential to strike a balance between \n",
    "embracing progress and preserving the human values that define our society. \n",
    "\n",
    "Education systems must adapt to equip individuals with the skills needed to thrive in a tech-driven \n",
    "economy, while policymakers should ensure that ethical standards guide the development and deployment \n",
    "of emerging technologies. As we continue to navigate this digital age, our collective responsibility \n",
    "is to use technology as a tool for empowerment, not exploitation, fostering a harmonious coexistence \n",
    "between humans and machines.\"\"\"\n"
   ]
  },
  {
   "cell_type": "code",
   "execution_count": 31,
   "id": "da7de5a6",
   "metadata": {},
   "outputs": [
    {
     "data": {
      "text/plain": [
       "EvaluationSchema(feedback=\"The essay is well-structured and presents a balanced perspective on technology's impact, highlighting both its advantages and challenges. The language is clear, concise, and professional, demonstrating a strong command of vocabulary and grammar. The arguments flow logically, making it easy to understand the author's viewpoint. To enhance the depth of analysis, the essay could benefit from more specific examples or a deeper exploration of the challenges and proposed solutions. For instance, elaborating on specific types of job displacement or concrete policy measures for ethical technology development would strengthen the arguments further.\", score=8)"
      ]
     },
     "execution_count": 31,
     "metadata": {},
     "output_type": "execute_result"
    }
   ],
   "source": [
    "prompt = f\"\"\"Evaluate the following essay based on the criteria of Clarity of Thought, Language, and Depth of Analysis.\n",
    "{essay}\n",
    "\"\"\"\n",
    "\n",
    "structured_model.invoke(prompt)"
   ]
  },
  {
   "cell_type": "markdown",
   "id": "372e15b5",
   "metadata": {},
   "source": [
    "\n",
    "**Explanation:**\n",
    "\n",
    "`individual_scores: Annotated[list[int], operator.add]`\n",
    "\n",
    "- `individual_scores` holds the list of numeric scores returned by each evaluation node.  \n",
    "- The `Annotated[...]` syntax with `operator.add` defines a **reducer function** — it merges or adds together the results from multiple parallel nodes.  \n",
    "- This mechanism ensures that LangGraph correctly **aggregates scores** from the three evaluation parameters: **Clarity**, **Language**, and **Depth of Analysis**.\n",
    "\n",
    " "
   ]
  },
  {
   "cell_type": "code",
   "execution_count": 32,
   "id": "9e0c92ef",
   "metadata": {},
   "outputs": [],
   "source": [
    "# define state\n",
    "\n",
    "class EssayEvaluationState(TypedDict):\n",
    "\n",
    "    essay: str\n",
    "    clarity_feedback: str\n",
    "    language_feedback: str\n",
    "    depth_feedback: str\n",
    "    overall_feedback: str\n",
    "    individual_scores: Annotated[list[int], operator.add] # here add is a reducer function\n",
    "    average_score: float\n"
   ]
  },
  {
   "cell_type": "code",
   "execution_count": 33,
   "id": "6d9674f1",
   "metadata": {},
   "outputs": [],
   "source": [
    "def evaluate_clarity(state: EssayEvaluationState) -> EssayEvaluationState:\n",
    "    prompt = f\"\"\"Evaluate the following essay for Clarity of Thought:\n",
    "             {state['essay']} Provide detailed feedback and a score out of 10.\"\"\"\n",
    "    result = structured_model.invoke(prompt)\n",
    "    clr_feedback = result.feedback\n",
    "    clr_score = result.score\n",
    "    return {\n",
    "        'clarity_feedback': clr_feedback,\n",
    "        'individual_scores': [clr_score]\n",
    "    }"
   ]
  },
  {
   "cell_type": "code",
   "execution_count": 34,
   "id": "925705d9",
   "metadata": {},
   "outputs": [],
   "source": [
    "def evaluate_language(state: EssayEvaluationState) -> EssayEvaluationState:\n",
    "    prompt = f\"\"\"Evaluate the following essay for Language Quality:\n",
    "             {state['essay']} Provide detailed feedback and a score out of 10.\"\"\"\n",
    "    result = structured_model.invoke(prompt)\n",
    "    lang_feedback =  result.feedback\n",
    "    lang_score = result.score\n",
    "    return {\n",
    "        'language_feedback': lang_feedback,\n",
    "        'individual_scores': [lang_score]\n",
    "    }"
   ]
  },
  {
   "cell_type": "code",
   "execution_count": 35,
   "id": "be53939f",
   "metadata": {},
   "outputs": [],
   "source": [
    "def evaluate_depth(state: EssayEvaluationState) -> EssayEvaluationState:\n",
    "    prompt = f\"\"\"Evaluate the following essay for Depth of Analysis:\n",
    "             {state['essay']} Provide detailed feedback and a score out of 10.\"\"\"\n",
    "    result = structured_model.invoke(prompt)\n",
    "    depth_feedback = result.feedback\n",
    "    depth_score = result.score\n",
    "    return {\n",
    "        'depth_feedback': depth_feedback,\n",
    "        'individual_scores': [depth_score]\n",
    "    }"
   ]
  },
  {
   "cell_type": "code",
   "execution_count": 41,
   "id": "895672fd",
   "metadata": {},
   "outputs": [],
   "source": [
    "def final_evaluation(state: EssayEvaluationState) -> EssayEvaluationState:\n",
    "    prompt = f\"\"\"Based on the following feedbacks, provide a summarized feedback for the essay:\n",
    "                Clarity Feedback: {state['clarity_feedback']}\n",
    "                Language Feedback: {state['language_feedback']}\n",
    "                Depth Feedback: {state['depth_feedback']}\n",
    "                \"\"\"\n",
    "    result = model.invoke(prompt)\n",
    "    overall_feedback = result.content\n",
    "\n",
    "\n",
    "    average_score = sum(state['individual_scores']) / len(state['individual_scores'])\n",
    "    return {\n",
    "        'overall_feedback': overall_feedback,\n",
    "        'average_score': average_score\n",
    "    }"
   ]
  },
  {
   "cell_type": "markdown",
   "id": "cd4b9bbe",
   "metadata": {},
   "source": [
    "<img src=\"essay.png\" width = 450px, height = 300px>"
   ]
  },
  {
   "cell_type": "code",
   "execution_count": 42,
   "id": "67acb355",
   "metadata": {},
   "outputs": [],
   "source": [
    "graph = StateGraph(EssayEvaluationState)\n",
    "\n",
    "\n",
    "graph.add_node('evaluate_clarity',evaluate_clarity)\n",
    "graph.add_node('evaluate_language',evaluate_language)\n",
    "graph.add_node('evaluate_depth',evaluate_depth)\n",
    "graph.add_node('final_evaluation',final_evaluation)\n",
    "\n",
    "\n",
    "graph.add_edge(START, 'evaluate_clarity')\n",
    "graph.add_edge(START, 'evaluate_language')\n",
    "graph.add_edge(START, 'evaluate_depth')\n",
    "graph.add_edge('evaluate_clarity', 'final_evaluation')\n",
    "graph.add_edge('evaluate_language', 'final_evaluation')\n",
    "graph.add_edge('evaluate_depth', 'final_evaluation')\n",
    "\n",
    "graph.add_edge('final_evaluation', END)\n",
    "\n",
    "workflow = graph.compile()\n"
   ]
  },
  {
   "cell_type": "code",
   "execution_count": 38,
   "id": "755d01b0",
   "metadata": {},
   "outputs": [
    {
     "data": {
      "image/png": "[encoded data removed]",
      "text/plain": [
       "<langgraph.graph.state.CompiledStateGraph object at 0x0000018FDF044CD0>"
      ]
     },
     "execution_count": 38,
     "metadata": {},
     "output_type": "execute_result"
    }
   ],
   "source": [
    "workflow "
   ]
  },
  {
   "cell_type": "code",
   "execution_count": 43,
   "id": "fa888007",
   "metadata": {},
   "outputs": [],
   "source": [
    "# intial state\n",
    "\n",
    "initial_state = {\n",
    "    'essay': essay\n",
    "}"
   ]
  },
  {
   "cell_type": "code",
   "execution_count": 44,
   "id": "4fae7502",
   "metadata": {},
   "outputs": [],
   "source": [
    "# execute the workflow\n",
    "\n",
    "final_state = workflow.invoke(initial_state)"
   ]
  },
  {
   "cell_type": "code",
   "execution_count": 45,
   "id": "ee3d8f90",
   "metadata": {},
   "outputs": [
    {
     "data": {
      "text/plain": [
       "{'essay': \"In today's rapidly evolving world, technology plays a pivotal role in shaping our lives. \\nFrom communication to healthcare, technological advancements have revolutionized various sectors, \\nenhancing efficiency, accuracy, and accessibility. The rise of artificial intelligence, automation, \\nand data-driven systems has not only simplified everyday tasks but also transformed industries such \\nas education, transportation, and finance.\\n\\nHowever, while these innovations bring undeniable benefits, they also introduce new challenges that \\ndemand careful consideration. Issues like data privacy, job displacement, and digital addiction \\nhighlight the importance of responsible innovation. It is essential to strike a balance between \\nembracing progress and preserving the human values that define our society. \\n\\nEducation systems must adapt to equip individuals with the skills needed to thrive in a tech-driven \\neconomy, while policymakers should ensure that ethical standards guide the development and deployment \\nof emerging technologies. As we continue to navigate this digital age, our collective responsibility \\nis to use technology as a tool for empowerment, not exploitation, fostering a harmonious coexistence \\nbetween humans and machines.\",\n",
       " 'clarity_feedback': 'The essay demonstrates excellent clarity of thought. The structure is logical, moving from the positive impacts of technology to the challenges it presents, and finally offering solutions and a call to action. Each paragraph has a clear focus, and the arguments are well-articulated. The language is precise and effectively conveys the intended message. The author successfully navigates a complex topic, presenting both sides of the argument before offering a balanced perspective. The flow between paragraphs is smooth, enhancing the overall readability and comprehension.',\n",
       " 'language_feedback': \"The essay demonstrates excellent language quality. It is highly clear, cohesive, and well-structured, with ideas flowing logically from one paragraph to the next. The vocabulary is sophisticated and appropriate, enhancing the academic tone (e.g., 'pivotal,' 'revolutionized,' 'responsible innovation'). The sentence structures are varied and complex, contributing to readability and sophistication. There are no noticeable grammatical errors or punctuation mistakes, and the tone is objective and analytical, fitting for the subject matter. Overall, the language used is precise, engaging, and effectively conveys the author's message.\",\n",
       " 'depth_feedback': \"The essay provides a decent overview of technology's impact, touching upon various benefits and challenges. It successfully identifies key areas such as AI, automation, data privacy, job displacement, and the need for ethical considerations. However, the depth of analysis is quite superficial. The essay states broad claims (e.g., 'technology has revolutionized various sectors,' 'issues like data privacy, job displacement... highlight the importance of responsible innovation') without delving into specific examples, detailed explanations of *how* these transformations occur, or the complex nuances behind the challenges. For instance, while data privacy is mentioned, there's no exploration of its various facets, the specific types of threats, or the mechanisms of protection. Similarly, the call for education systems to adapt or policymakers to ensure ethical standards lacks concrete suggestions or a deeper analysis of the underlying problems they aim to solve. To improve, consider providing specific case studies, elaborating on the cause-and-effect relationships, and offering a more nuanced discussion of the complexities involved in balancing technological progress with human values.\",\n",
       " 'overall_feedback': 'This essay demonstrates **excellent clarity of thought and language quality**. Its structure is highly logical, moving smoothly from the positive impacts of technology to its challenges, and concluding with solutions and a call to action. Each paragraph is clearly focused, and arguments are well-articulated using precise, sophisticated, and varied language, free of grammatical or punctuation errors. This makes the essay highly readable, cohesive, and engaging, effectively conveying its message with an appropriate objective and analytical tone.\\n\\nHowever, the **depth of analysis is quite superficial**. While the essay successfully identifies key areas such as AI, data privacy, and job displacement, it largely presents broad claims without delving into specific examples, detailed explanations of *how* transformations occur, or the complex nuances behind the challenges. The proposed solutions and calls to action also lack concrete suggestions or a deeper analysis of the underlying problems. To improve, the essay would benefit significantly from incorporating specific case studies, elaborating on cause-and-effect relationships, and offering a more nuanced discussion of the complexities involved in balancing technological progress with human values.\\n\\nIn summary, the essay excels in *how* it communicates but needs to develop *what* it communicates with greater analytical depth and specificity.',\n",
       " 'individual_scores': [9, 5, 9],\n",
       " 'average_score': 7.666666666666667}"
      ]
     },
     "execution_count": 45,
     "metadata": {},
     "output_type": "execute_result"
    }
   ],
   "source": [
    "final_state"
   ]
  }
 ],
 "metadata": {
  "kernelspec": {
   "display_name": "venv",
   "language": "python",
   "name": "python3"
  },
  "language_info": {
   "codemirror_mode": {
    "name": "ipython",
    "version": 3
   },
   "file_extension": ".py",
   "mimetype": "text/x-python",
   "name": "python",
   "nbconvert_exporter": "python",
   "pygments_lexer": "ipython3",
   "version": "3.10.11"
  }
 },
 "nbformat": 4,
 "nbformat_minor": 5
}
