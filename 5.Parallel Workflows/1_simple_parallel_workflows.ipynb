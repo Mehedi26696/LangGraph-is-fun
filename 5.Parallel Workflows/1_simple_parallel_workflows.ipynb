{
 "cells": [
  {
   "cell_type": "code",
   "execution_count": 27,
   "id": "b725716f",
   "metadata": {},
   "outputs": [],
   "source": [
    "from langgraph.graph import StateGraph, START, END\n",
    "from langchain_google_genai import ChatGoogleGenerativeAI\n",
    "from typing import TypedDict\n",
    "from dotenv import load_dotenv\n",
    "import os"
   ]
  },
  {
   "cell_type": "code",
   "execution_count": 28,
   "id": "862a43df",
   "metadata": {},
   "outputs": [
    {
     "data": {
      "text/plain": [
       "True"
      ]
     },
     "execution_count": 28,
     "metadata": {},
     "output_type": "execute_result"
    }
   ],
   "source": [
    "load_dotenv() # Load environment variables from .env file"
   ]
  },
  {
   "cell_type": "code",
   "execution_count": 29,
   "id": "826e439f",
   "metadata": {},
   "outputs": [],
   "source": [
    "# State definitions\n",
    "\n",
    "class BatsmanState(TypedDict):\n",
    "    \n",
    "    runs: int\n",
    "    balls: int\n",
    "    fours: int\n",
    "    sixes: int\n",
    "\n",
    "    strike_rate: float\n",
    "    boundary_per_ball: float\n",
    "    boundary_percentage: float\n",
    "    summary: str"
   ]
  },
  {
   "cell_type": "markdown",
   "id": "30b2ee4f",
   "metadata": {},
   "source": [
    "\n",
    "Parallel workflows in LangGraph:\n",
    "- Execute multiple nodes concurrently.\n",
    "- Send only partial state (dict subset) to each node for efficiency and correctness.\n",
    "- Sending full or wrong state may cause errors due to state schema mismatch.\n",
    "- LangGraph merges all node outputs back into the main state automatically.\n",
    "\n"
   ]
  },
  {
   "cell_type": "code",
   "execution_count": 30,
   "id": "026d11cc",
   "metadata": {},
   "outputs": [],
   "source": [
    "def calculate_strike_rate(state: BatsmanState) -> BatsmanState:\n",
    "     \n",
    "    runs = state['runs']\n",
    "    balls = state['balls']\n",
    "     \n",
    "    if balls == 0:\n",
    "        sr  = 0.0\n",
    "    else:\n",
    "         sr = (runs / balls) * 100\n",
    "\n",
    "    return  {'strike_rate': sr}\n"
   ]
  },
  {
   "cell_type": "code",
   "execution_count": 31,
   "id": "3d7fb9be",
   "metadata": {},
   "outputs": [],
   "source": [
    "def calculate_boundary_per_ball(state: BatsmanState) -> BatsmanState:\n",
    "    \n",
    "    fours = state['fours']\n",
    "    sixes = state['sixes']\n",
    "    balls = state['balls']\n",
    "    \n",
    "    total_boundaries = fours + sixes\n",
    "    \n",
    "    if balls == 0:\n",
    "        boundary_per_ball = 0.0\n",
    "    else:\n",
    "        boundary_per_ball = total_boundaries / balls\n",
    "        \n",
    "    return  {'boundary_per_ball': boundary_per_ball}"
   ]
  },
  {
   "cell_type": "code",
   "execution_count": 32,
   "id": "d8ae7039",
   "metadata": {},
   "outputs": [],
   "source": [
    "def calculate_boundary_percentage(state: BatsmanState) -> BatsmanState:\n",
    "    \n",
    "    runs = state['runs']\n",
    "    fours = state['fours']\n",
    "    sixes = state['sixes']\n",
    "    \n",
    "    boundary_runs = (fours * 4) + (sixes * 6)\n",
    "    \n",
    "    if runs == 0:\n",
    "        boundary_percentage = 0.0\n",
    "    else:\n",
    "        boundary_percentage = (boundary_runs / runs) * 100\n",
    "        \n",
    "    return  {'boundary_percentage': boundary_percentage}"
   ]
  },
  {
   "cell_type": "code",
   "execution_count": 33,
   "id": "4fe2c659",
   "metadata": {},
   "outputs": [],
   "source": [
    "def summary_node(state: BatsmanState) -> BatsmanState:\n",
    "\n",
    "    summary = f\"\"\"\n",
    "    Batsman Performance Summary:\n",
    "    - Runs Scored: {state['runs']}\n",
    "    - Balls Faced: {state['balls']}\n",
    "    - Fours Hit: {state['fours']}\n",
    "    - Sixes Hit: {state['sixes']}\n",
    "    - Strike Rate: {state['strike_rate']:.2f}\n",
    "    - Boundaries per Ball: {state['boundary_per_ball']:.4f}\n",
    "    - Boundary Percentage: {state['boundary_percentage']:.2f}%\n",
    "    \"\"\"\n",
    "    \n",
    "    return {'summary': summary}\n",
    "    \n",
    "    "
   ]
  },
  {
   "cell_type": "markdown",
   "id": "ee2de1c3",
   "metadata": {},
   "source": [
    "# WorkFlow \n",
    "\n",
    "<img src=\"par.png\" width = 400px, height = 300px>"
   ]
  },
  {
   "cell_type": "code",
   "execution_count": 34,
   "id": "8524942d",
   "metadata": {},
   "outputs": [],
   "source": [
    "graph = StateGraph(BatsmanState)\n",
    "\n",
    "\n",
    "# Nodes definition\n",
    "\n",
    "graph.add_node(\"calculate_strike_rate\", calculate_strike_rate)\n",
    "graph.add_node(\"calculate_boundary_per_ball\", calculate_boundary_per_ball)\n",
    "graph.add_node(\"calculate_boundary_percentage\", calculate_boundary_percentage)\n",
    "graph.add_node('Summary', summary_node)\n",
    "\n",
    "# Edges definition\n",
    "\n",
    "graph.add_edge(START, \"calculate_strike_rate\")\n",
    "graph.add_edge(START, \"calculate_boundary_per_ball\")\n",
    "graph.add_edge(START, \"calculate_boundary_percentage\")\n",
    "\n",
    "\n",
    "graph.add_edge(\"calculate_strike_rate\", \"Summary\")\n",
    "graph.add_edge(\"calculate_boundary_per_ball\", \"Summary\")\n",
    "graph.add_edge(\"calculate_boundary_percentage\", \"Summary\")\n",
    "\n",
    "\n",
    "graph.add_edge(\"Summary\", END)\n",
    "\n",
    "\n",
    "# compile the graph\n",
    "\n",
    "workflow  = graph.compile()"
   ]
  },
  {
   "cell_type": "code",
   "execution_count": 35,
   "id": "4e8a0a1a",
   "metadata": {},
   "outputs": [
    {
     "data": {
      "image/png": "[encoded data removed]",
      "text/plain": [
       "<langgraph.graph.state.CompiledStateGraph object at 0x000001C88D5EFA00>"
      ]
     },
     "execution_count": 35,
     "metadata": {},
     "output_type": "execute_result"
    }
   ],
   "source": [
    "workflow"
   ]
  },
  {
   "cell_type": "code",
   "execution_count": 36,
   "id": "5f77bb63",
   "metadata": {},
   "outputs": [],
   "source": [
    "# intial state\n",
    "\n",
    "intial_state = {\n",
    "    'runs': 120,\n",
    "    'balls': 80,\n",
    "    'fours': 10,\n",
    "    'sixes': 5\n",
    "}"
   ]
  },
  {
   "cell_type": "code",
   "execution_count": 37,
   "id": "ae073963",
   "metadata": {},
   "outputs": [],
   "source": [
    "# execute the graph\n",
    "\n",
    "final_state = workflow.invoke(intial_state) "
   ]
  },
  {
   "cell_type": "code",
   "execution_count": 38,
   "id": "513bf13e",
   "metadata": {},
   "outputs": [
    {
     "name": "stdout",
     "output_type": "stream",
     "text": [
      "\n",
      "    Batsman Performance Summary:\n",
      "    - Runs Scored: 120\n",
      "    - Balls Faced: 80\n",
      "    - Fours Hit: 10\n",
      "    - Sixes Hit: 5\n",
      "    - Strike Rate: 150.00\n",
      "    - Boundaries per Ball: 0.1875\n",
      "    - Boundary Percentage: 58.33%\n",
      "    \n"
     ]
    }
   ],
   "source": [
    "print(final_state['summary'])"
   ]
  }
 ],
 "metadata": {
  "kernelspec": {
   "display_name": "venv",
   "language": "python",
   "name": "python3"
  },
  "language_info": {
   "codemirror_mode": {
    "name": "ipython",
    "version": 3
   },
   "file_extension": ".py",
   "mimetype": "text/x-python",
   "name": "python",
   "nbconvert_exporter": "python",
   "pygments_lexer": "ipython3",
   "version": "3.10.11"
  }
 },
 "nbformat": 4,
 "nbformat_minor": 5
}
