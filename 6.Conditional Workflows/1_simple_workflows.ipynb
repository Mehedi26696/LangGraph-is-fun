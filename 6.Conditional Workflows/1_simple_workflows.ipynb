{
 "cells": [
  {
   "cell_type": "markdown",
   "id": "c82e9df0",
   "metadata": {},
   "source": [
    "### Question:\n",
    "Demonstrate how to **use conditional workflows in LangGraph** to determine whether the roots of a **quadratic equation (ax² + bx + c = 0)** are **real and distinct, real and equal, or complex**.\n"
   ]
  },
  {
   "cell_type": "code",
   "execution_count": 20,
   "id": "01187b55",
   "metadata": {},
   "outputs": [],
   "source": [
    "from langgraph.graph import StateGraph, START, END\n",
    "from langchain_google_genai import ChatGoogleGenerativeAI\n",
    "from typing import TypedDict,Literal\n",
    "import os"
   ]
  },
  {
   "cell_type": "code",
   "execution_count": 21,
   "id": "a27496a5",
   "metadata": {},
   "outputs": [],
   "source": [
    "# define state\n",
    "\n",
    "class QuadState(TypedDict):\n",
    "     \n",
    "    a: int\n",
    "    b: int\n",
    "    c: int\n",
    "\n",
    "    equation: str\n",
    "    discriminant: float\n",
    "    result: str"
   ]
  },
  {
   "cell_type": "code",
   "execution_count": 22,
   "id": "aab52614",
   "metadata": {},
   "outputs": [],
   "source": [
    "def show_equation(state: QuadState) -> QuadState:\n",
    "    equation = f\"{state['a']}x^2 + {state['b']}x + {state['c']} = 0\"\n",
    "\n",
    "    return {\n",
    "       \n",
    "        \"equation\": equation\n",
    "    }"
   ]
  },
  {
   "cell_type": "code",
   "execution_count": 23,
   "id": "2abc6802",
   "metadata": {},
   "outputs": [],
   "source": [
    "def calculate_discriminant(state: QuadState) -> QuadState:\n",
    "    a = state['a']\n",
    "    b = state['b']\n",
    "    c = state['c']\n",
    "    discriminant = b**2 - 4*a*c\n",
    "\n",
    "    return {\n",
    "        \"discriminant\": discriminant\n",
    "    }"
   ]
  },
  {
   "cell_type": "code",
   "execution_count": 24,
   "id": "3e5bd0a2",
   "metadata": {},
   "outputs": [],
   "source": [
    "def real_roots_node(state: QuadState) -> QuadState:\n",
    "    a = state['a']\n",
    "    b = state['b']\n",
    "    c = state['c']\n",
    "    discriminant = state['discriminant']\n",
    "\n",
    "    root1 = (-b + discriminant**0.5) / (2*a)\n",
    "    root2 = (-b - discriminant**0.5) / (2*a)\n",
    "\n",
    "    result = f\"The equation has two real roots: {root1} and {root2}.\"\n",
    "\n",
    "    return {\n",
    "        \"result\": result\n",
    "    }"
   ]
  },
  {
   "cell_type": "code",
   "execution_count": 25,
   "id": "87584426",
   "metadata": {},
   "outputs": [],
   "source": [
    "def complex_roots_node(state: QuadState) -> QuadState:\n",
    "    a = state['a']\n",
    "    b = state['b']\n",
    "    c = state['c']\n",
    "    discriminant = state['discriminant']\n",
    "\n",
    "    real_part = -b / (2*a)\n",
    "    imaginary_part = (-discriminant)**0.5 / (2*a)\n",
    "\n",
    "    root1 = f\"{real_part} + {imaginary_part}i\"\n",
    "    root2 = f\"{real_part} - {imaginary_part}i\"\n",
    "\n",
    "    result = f\"The equation has two complex roots: {root1} and {root2}.\"\n",
    "\n",
    "    return {\n",
    "        \"result\": result\n",
    "    }"
   ]
  },
  {
   "cell_type": "code",
   "execution_count": 26,
   "id": "bf9a90fe",
   "metadata": {},
   "outputs": [],
   "source": [
    "def equal_roots_node(state: QuadState) -> QuadState:\n",
    "    a = state['a']\n",
    "    b = state['b']\n",
    "    c = state['c']\n",
    "    discriminant = state['discriminant']\n",
    "\n",
    "    root = -b / (2*a)\n",
    "\n",
    "    result = f\"The equation has one real root (a double root): {root}.\"\n",
    "\n",
    "    return {\n",
    "        \"result\": result\n",
    "    }"
   ]
  },
  {
   "cell_type": "code",
   "execution_count": 27,
   "id": "40289a43",
   "metadata": {},
   "outputs": [],
   "source": [
    "def check_discriminant(state: QuadState) -> Literal[\"real_roots\", \"equal_roots\", \"complex_roots\"]:\n",
    "    discriminant = state['discriminant']\n",
    "    if discriminant > 0:\n",
    "        return \"real_roots\"\n",
    "    elif discriminant == 0:\n",
    "        return \"equal_roots\"\n",
    "    else:\n",
    "        return \"complex_roots\""
   ]
  },
  {
   "cell_type": "markdown",
   "id": "e061d4a8",
   "metadata": {},
   "source": [
    "# Workflow\n",
    "\n",
    "<img src=\"eqn.png\" width = 450px, height = 300px>"
   ]
  },
  {
   "cell_type": "code",
   "execution_count": null,
   "id": "ceee9510",
   "metadata": {},
   "outputs": [],
   "source": [
    "graph = StateGraph(QuadState)\n",
    "\n",
    "graph.add_node('show_equation', show_equation)\n",
    "graph.add_node('calculate_discriminant', calculate_discriminant)\n",
    "graph.add_node('real_roots', real_roots_node)\n",
    "graph.add_node('complex_roots', complex_roots_node)\n",
    "graph.add_node('equal_roots', equal_roots_node)\n",
    "\n",
    "graph.add_edge(START, 'show_equation')\n",
    "graph.add_edge('show_equation', 'calculate_discriminant')\n",
    "graph.add_conditional_edges('calculate_discriminant', check_discriminant)  # here we add conditional edges based on discriminant\n",
    "graph.add_edge('real_roots', END)\n",
    "graph.add_edge('complex_roots', END)\n",
    "graph.add_edge('equal_roots', END)\n",
    "workflow = graph.compile()\n"
   ]
  },
  {
   "cell_type": "code",
   "execution_count": 29,
   "id": "e7fd137e",
   "metadata": {},
   "outputs": [
    {
     "data": {
      "image/png": "[encoded data removed]",
      "text/plain": [
       "<langgraph.graph.state.CompiledStateGraph object at 0x000001E8C7B89180>"
      ]
     },
     "execution_count": 29,
     "metadata": {},
     "output_type": "execute_result"
    }
   ],
   "source": [
    "workflow"
   ]
  },
  {
   "cell_type": "code",
   "execution_count": 36,
   "id": "b76044ab",
   "metadata": {},
   "outputs": [],
   "source": [
    "# define intial state\n",
    "\n",
    "initial_state = {\n",
    "    \"a\": 1,\n",
    "    \"b\": -3,\n",
    "    \"c\": 4\n",
    "}"
   ]
  },
  {
   "cell_type": "code",
   "execution_count": 37,
   "id": "cc1f2be1",
   "metadata": {},
   "outputs": [],
   "source": [
    "final_state = workflow.invoke(initial_state)"
   ]
  },
  {
   "cell_type": "code",
   "execution_count": 38,
   "id": "8cc4d518",
   "metadata": {},
   "outputs": [
    {
     "name": "stdout",
     "output_type": "stream",
     "text": [
      "{'a': 1, 'b': -3, 'c': 4, 'equation': '1x^2 + -3x + 4 = 0', 'discriminant': -7, 'result': 'The equation has two complex roots: 1.5 + 1.3228756555322954i and 1.5 - 1.3228756555322954i.'}\n"
     ]
    }
   ],
   "source": [
    "print(final_state)"
   ]
  }
 ],
 "metadata": {
  "kernelspec": {
   "display_name": "venv",
   "language": "python",
   "name": "python3"
  },
  "language_info": {
   "codemirror_mode": {
    "name": "ipython",
    "version": 3
   },
   "file_extension": ".py",
   "mimetype": "text/x-python",
   "name": "python",
   "nbconvert_exporter": "python",
   "pygments_lexer": "ipython3",
   "version": "3.10.11"
  }
 },
 "nbformat": 4,
 "nbformat_minor": 5
}
