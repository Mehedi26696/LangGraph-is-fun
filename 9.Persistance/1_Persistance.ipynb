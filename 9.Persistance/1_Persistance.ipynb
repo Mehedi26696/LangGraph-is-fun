{
 "cells": [
  {
   "cell_type": "markdown",
   "id": "ad94870f",
   "metadata": {},
   "source": [
    "### Create a Simple Workflow\n",
    "\n",
    "Goal: Generate a joke and its explanation while using the concept of persistence to store and retain previous state values."
   ]
  },
  {
   "cell_type": "code",
   "execution_count": 4,
   "id": "5cdf97a9",
   "metadata": {},
   "outputs": [],
   "source": [
    "from langgraph.graph import StateGraph, START, END\n",
    "from langchain_google_genai import ChatGoogleGenerativeAI\n",
    "from typing import TypedDict,Literal , Annotated\n",
    "from dotenv import load_dotenv\n",
    "from pydantic import BaseModel, Field\n",
    "from langchain_core.messages import AIMessage, HumanMessage , SystemMessage , BaseMessage\n",
    "from langgraph.graph.message import add_messages\n",
    "from langgraph.checkpoint.memory import InMemorySaver\n",
    "import os\n",
    "import operator"
   ]
  },
  {
   "cell_type": "code",
   "execution_count": 2,
   "id": "7a160907",
   "metadata": {},
   "outputs": [
    {
     "data": {
      "text/plain": [
       "True"
      ]
     },
     "execution_count": 2,
     "metadata": {},
     "output_type": "execute_result"
    }
   ],
   "source": [
    "load_dotenv()"
   ]
  },
  {
   "cell_type": "code",
   "execution_count": 3,
   "id": "21c542c5",
   "metadata": {},
   "outputs": [],
   "source": [
    "api_key = os.getenv(\"GEMINI_API_KEY\")\n",
    "\n",
    "model = ChatGoogleGenerativeAI(\n",
    "    model=\"gemini-2.5-flash\",\n",
    "    google_api_key=api_key  \n",
    ")"
   ]
  },
  {
   "cell_type": "code",
   "execution_count": 5,
   "id": "74dfd66f",
   "metadata": {},
   "outputs": [],
   "source": [
    "class JokeState(TypedDict):\n",
    "    topic: str\n",
    "    joke: str\n",
    "    explanation: str"
   ]
  },
  {
   "cell_type": "code",
   "execution_count": 6,
   "id": "d1bf63f1",
   "metadata": {},
   "outputs": [],
   "source": [
    "def generate_joke(state: JokeState):\n",
    "    topic = state['topic']\n",
    "    prompt = f\"Tell me a funny joke about {topic}.\"\n",
    "    response = model.invoke(prompt).content\n",
    "    return {\n",
    "        \"joke\": response\n",
    "    }"
   ]
  },
  {
   "cell_type": "code",
   "execution_count": 7,
   "id": "a682ba91",
   "metadata": {},
   "outputs": [],
   "source": [
    "def generate_explanation(state: JokeState):\n",
    "    joke = state['joke']\n",
    "    prompt = f\"Write an explanation for the following joke: {joke}\"\n",
    "    response = model.invoke(prompt).content\n",
    "    return {\n",
    "        \"explanation\": response\n",
    "    }"
   ]
  },
  {
   "cell_type": "markdown",
   "id": "ec8d341f",
   "metadata": {},
   "source": [
    "# Wrokflow\n",
    "\n",
    "<img src=\"per.png\" width=450px height=600px>"
   ]
  },
  {
   "cell_type": "code",
   "execution_count": 8,
   "id": "115efc44",
   "metadata": {},
   "outputs": [],
   "source": [
    "\n",
    "\n",
    "graph = StateGraph(JokeState)\n",
    "\n",
    "graph.add_node('generate_joke', generate_joke)\n",
    "graph.add_node('generate_explanation', generate_explanation)\n",
    "\n",
    "\n",
    "graph.add_edge(START, 'generate_joke')\n",
    "graph.add_edge('generate_joke', 'generate_explanation')\n",
    "graph.add_edge('generate_explanation', END)\n",
    "\n",
    "checkpointer = InMemorySaver()\n",
    "\n",
    "workflow = graph.compile(checkpointer=checkpointer)"
   ]
  },
  {
   "cell_type": "code",
   "execution_count": 16,
   "id": "5600d0af",
   "metadata": {},
   "outputs": [
    {
     "data": {
      "image/png": "[encoded data removed]",
      "text/plain": [
       "<langgraph.graph.state.CompiledStateGraph object at 0x000001D1107CE590>"
      ]
     },
     "execution_count": 16,
     "metadata": {},
     "output_type": "execute_result"
    }
   ],
   "source": [
    "workflow"
   ]
  },
  {
   "cell_type": "code",
   "execution_count": 9,
   "id": "453ffc9e",
   "metadata": {},
   "outputs": [],
   "source": [
    "\n",
    "initial_state = {\n",
    "    \"topic\": \"computers\"\n",
    "}"
   ]
  },
  {
   "cell_type": "markdown",
   "id": "c7614b60",
   "metadata": {},
   "source": [
    "### Set Thread ID"
   ]
  },
  {
   "cell_type": "code",
   "execution_count": 10,
   "id": "96900ba8",
   "metadata": {},
   "outputs": [],
   "source": [
    "config1 = {\n",
    "    \"configurable\":{\n",
    "        \"thread_id\" : \"1\"\n",
    "    }\n",
    "}"
   ]
  },
  {
   "cell_type": "markdown",
   "id": "db647b42",
   "metadata": {},
   "source": [
    "### Execution"
   ]
  },
  {
   "cell_type": "code",
   "execution_count": 13,
   "id": "3966aaf2",
   "metadata": {},
   "outputs": [
    {
     "data": {
      "text/plain": [
       "{'topic': 'computers',\n",
       " 'joke': 'Why was the computer cold?\\n\\nBecause it left its Windows open!',\n",
       " 'explanation': 'This is a classic pun that plays on the double meaning of the word \"Windows\":\\n\\n1.  **Physical Windows:** In the real world, if you leave the **windows** (the glass openings in a house or car) open, especially when it\\'s cold outside, the inside will get cold.\\n\\n2.  **Computer \"Windows\":** \"Windows\" is also the name of a very popular operating system developed by Microsoft (e.g., Windows 10, Windows 11). When you\\'re using a computer with the Windows OS, you open various programs and applications, and each one typically appears in its own graphical \"**window**\" on the screen.\\n\\nThe joke pretends that the computer \"leaving its Windows open\" (meaning, the operating system was running and perhaps many application windows were open) has the same physical effect as leaving actual windows open in a house, making the computer \"cold.\" It\\'s a humorous anthropomorphism (giving human-like qualities to an inanimate object) based on a linguistic trick.'}"
      ]
     },
     "execution_count": 13,
     "metadata": {},
     "output_type": "execute_result"
    }
   ],
   "source": [
    "workflow.invoke(initial_state,config=config1)"
   ]
  },
  {
   "cell_type": "markdown",
   "id": "33afb9cc",
   "metadata": {},
   "source": [
    "### Final State Values"
   ]
  },
  {
   "cell_type": "code",
   "execution_count": 14,
   "id": "c0bc6be2",
   "metadata": {},
   "outputs": [
    {
     "data": {
      "text/plain": [
       "StateSnapshot(values={'topic': 'computers', 'joke': 'Why was the computer cold?\\n\\nBecause it left its Windows open!', 'explanation': 'This is a classic pun that plays on the double meaning of the word \"Windows\":\\n\\n1.  **Physical Windows:** In the real world, if you leave the **windows** (the glass openings in a house or car) open, especially when it\\'s cold outside, the inside will get cold.\\n\\n2.  **Computer \"Windows\":** \"Windows\" is also the name of a very popular operating system developed by Microsoft (e.g., Windows 10, Windows 11). When you\\'re using a computer with the Windows OS, you open various programs and applications, and each one typically appears in its own graphical \"**window**\" on the screen.\\n\\nThe joke pretends that the computer \"leaving its Windows open\" (meaning, the operating system was running and perhaps many application windows were open) has the same physical effect as leaving actual windows open in a house, making the computer \"cold.\" It\\'s a humorous anthropomorphism (giving human-like qualities to an inanimate object) based on a linguistic trick.'}, next=(), config={'configurable': {'thread_id': '1', 'checkpoint_ns': '', 'checkpoint_id': '1f0b2fd5-d613-65b0-8006-0b6268185f4a'}}, metadata={'source': 'loop', 'step': 6, 'parents': {}}, created_at='2025-10-27T06:22:51.160721+00:00', parent_config={'configurable': {'thread_id': '1', 'checkpoint_ns': '', 'checkpoint_id': '1f0b2fd5-7bb0-6b39-8005-51068e577b3b'}}, tasks=(), interrupts=())"
      ]
     },
     "execution_count": 14,
     "metadata": {},
     "output_type": "execute_result"
    }
   ],
   "source": [
    "workflow.get_state(config1)"
   ]
  },
  {
   "cell_type": "markdown",
   "id": "ebc05236",
   "metadata": {},
   "source": [
    "### All State Values"
   ]
  },
  {
   "cell_type": "code",
   "execution_count": 15,
   "id": "34b8fa10",
   "metadata": {},
   "outputs": [
    {
     "data": {
      "text/plain": [
       "[StateSnapshot(values={'topic': 'computers', 'joke': 'Why was the computer cold?\\n\\nBecause it left its Windows open!', 'explanation': 'This is a classic pun that plays on the double meaning of the word \"Windows\":\\n\\n1.  **Physical Windows:** In the real world, if you leave the **windows** (the glass openings in a house or car) open, especially when it\\'s cold outside, the inside will get cold.\\n\\n2.  **Computer \"Windows\":** \"Windows\" is also the name of a very popular operating system developed by Microsoft (e.g., Windows 10, Windows 11). When you\\'re using a computer with the Windows OS, you open various programs and applications, and each one typically appears in its own graphical \"**window**\" on the screen.\\n\\nThe joke pretends that the computer \"leaving its Windows open\" (meaning, the operating system was running and perhaps many application windows were open) has the same physical effect as leaving actual windows open in a house, making the computer \"cold.\" It\\'s a humorous anthropomorphism (giving human-like qualities to an inanimate object) based on a linguistic trick.'}, next=(), config={'configurable': {'thread_id': '1', 'checkpoint_ns': '', 'checkpoint_id': '1f0b2fd5-d613-65b0-8006-0b6268185f4a'}}, metadata={'source': 'loop', 'step': 6, 'parents': {}}, created_at='2025-10-27T06:22:51.160721+00:00', parent_config={'configurable': {'thread_id': '1', 'checkpoint_ns': '', 'checkpoint_id': '1f0b2fd5-7bb0-6b39-8005-51068e577b3b'}}, tasks=(), interrupts=()),\n",
       " StateSnapshot(values={'topic': 'computers', 'joke': 'Why was the computer cold?\\n\\nBecause it left its Windows open!', 'explanation': 'This joke is a classic play on words, using computer terminology in a human context. Here\\'s the breakdown:\\n\\n1.  **\"byte\" of an issue:**\\n    *   **Computer Meaning:** A \"byte\" is a fundamental unit of digital information (8 bits). It\\'s a core component of how computers store and process data.\\n    *   **Pun/Human Meaning:** It sounds exactly like \"bite\" (as in, a small wound, or a small piece of something). If someone has a \"bite\" (like an insect bite or an injury) or \"a bit of an issue\" (a small problem), they might go to a doctor. So, \"a byte of an issue\" cleverly sounds like \"a *bit* of an issue\" that needs attention.\\n\\n2.  **\"reboot\"**:\\n    *   **Computer Meaning:** To \"reboot\" a computer means to restart it. This is a common troubleshooting step to fix glitches, clear temporary memory, or get the system running smoothly again.\\n    *   **Pun/Human Meaning:** In a human context, when someone is feeling unwell, tired, or having problems, they might metaphorically need a \"reboot\" – meaning a rest, a fresh start, or some intervention to get them back to full health. A doctor helps facilitate this \"reboot\" for people.\\n\\nThe humor comes from applying these very specific computer terms to a situation typically reserved for humans, creating a silly and unexpected answer that works on both levels.'}, next=('generate_explanation',), config={'configurable': {'thread_id': '1', 'checkpoint_ns': '', 'checkpoint_id': '1f0b2fd5-7bb0-6b39-8005-51068e577b3b'}}, metadata={'source': 'loop', 'step': 5, 'parents': {}}, created_at='2025-10-27T06:22:41.683128+00:00', parent_config={'configurable': {'thread_id': '1', 'checkpoint_ns': '', 'checkpoint_id': '1f0b2fd3-8707-6daa-8004-65d023d38877'}}, tasks=(PregelTask(id='68e73a4b-2023-105c-949e-dbbfc7a717aa', name='generate_explanation', path=('__pregel_pull', 'generate_explanation'), error=None, interrupts=(), state=None, result={'explanation': 'This is a classic pun that plays on the double meaning of the word \"Windows\":\\n\\n1.  **Physical Windows:** In the real world, if you leave the **windows** (the glass openings in a house or car) open, especially when it\\'s cold outside, the inside will get cold.\\n\\n2.  **Computer \"Windows\":** \"Windows\" is also the name of a very popular operating system developed by Microsoft (e.g., Windows 10, Windows 11). When you\\'re using a computer with the Windows OS, you open various programs and applications, and each one typically appears in its own graphical \"**window**\" on the screen.\\n\\nThe joke pretends that the computer \"leaving its Windows open\" (meaning, the operating system was running and perhaps many application windows were open) has the same physical effect as leaving actual windows open in a house, making the computer \"cold.\" It\\'s a humorous anthropomorphism (giving human-like qualities to an inanimate object) based on a linguistic trick.'}),), interrupts=()),\n",
       " StateSnapshot(values={'topic': 'computers', 'joke': 'Why did the computer go to the doctor?\\n\\nBecause it had a **byte** of an issue and needed a **reboot**!', 'explanation': 'This joke is a classic play on words, using computer terminology in a human context. Here\\'s the breakdown:\\n\\n1.  **\"byte\" of an issue:**\\n    *   **Computer Meaning:** A \"byte\" is a fundamental unit of digital information (8 bits). It\\'s a core component of how computers store and process data.\\n    *   **Pun/Human Meaning:** It sounds exactly like \"bite\" (as in, a small wound, or a small piece of something). If someone has a \"bite\" (like an insect bite or an injury) or \"a bit of an issue\" (a small problem), they might go to a doctor. So, \"a byte of an issue\" cleverly sounds like \"a *bit* of an issue\" that needs attention.\\n\\n2.  **\"reboot\"**:\\n    *   **Computer Meaning:** To \"reboot\" a computer means to restart it. This is a common troubleshooting step to fix glitches, clear temporary memory, or get the system running smoothly again.\\n    *   **Pun/Human Meaning:** In a human context, when someone is feeling unwell, tired, or having problems, they might metaphorically need a \"reboot\" – meaning a rest, a fresh start, or some intervention to get them back to full health. A doctor helps facilitate this \"reboot\" for people.\\n\\nThe humor comes from applying these very specific computer terms to a situation typically reserved for humans, creating a silly and unexpected answer that works on both levels.'}, next=('generate_joke',), config={'configurable': {'thread_id': '1', 'checkpoint_ns': '', 'checkpoint_id': '1f0b2fd3-8707-6daa-8004-65d023d38877'}}, metadata={'source': 'loop', 'step': 4, 'parents': {}}, created_at='2025-10-27T06:21:49.185169+00:00', parent_config={'configurable': {'thread_id': '1', 'checkpoint_ns': '', 'checkpoint_id': '1f0b2fd3-8702-6f51-8003-a438c7ab5bed'}}, tasks=(PregelTask(id='de763ad5-751e-428d-4a6f-f1eb73938fab', name='generate_joke', path=('__pregel_pull', 'generate_joke'), error=None, interrupts=(), state=None, result={'joke': 'Why was the computer cold?\\n\\nBecause it left its Windows open!'}),), interrupts=()),\n",
       " StateSnapshot(values={'topic': 'computers', 'joke': 'Why did the computer go to the doctor?\\n\\nBecause it had a **byte** of an issue and needed a **reboot**!', 'explanation': 'This joke is a classic play on words, using computer terminology in a human context. Here\\'s the breakdown:\\n\\n1.  **\"byte\" of an issue:**\\n    *   **Computer Meaning:** A \"byte\" is a fundamental unit of digital information (8 bits). It\\'s a core component of how computers store and process data.\\n    *   **Pun/Human Meaning:** It sounds exactly like \"bite\" (as in, a small wound, or a small piece of something). If someone has a \"bite\" (like an insect bite or an injury) or \"a bit of an issue\" (a small problem), they might go to a doctor. So, \"a byte of an issue\" cleverly sounds like \"a *bit* of an issue\" that needs attention.\\n\\n2.  **\"reboot\"**:\\n    *   **Computer Meaning:** To \"reboot\" a computer means to restart it. This is a common troubleshooting step to fix glitches, clear temporary memory, or get the system running smoothly again.\\n    *   **Pun/Human Meaning:** In a human context, when someone is feeling unwell, tired, or having problems, they might metaphorically need a \"reboot\" – meaning a rest, a fresh start, or some intervention to get them back to full health. A doctor helps facilitate this \"reboot\" for people.\\n\\nThe humor comes from applying these very specific computer terms to a situation typically reserved for humans, creating a silly and unexpected answer that works on both levels.'}, next=('__start__',), config={'configurable': {'thread_id': '1', 'checkpoint_ns': '', 'checkpoint_id': '1f0b2fd3-8702-6f51-8003-a438c7ab5bed'}}, metadata={'source': 'input', 'step': 3, 'parents': {}}, created_at='2025-10-27T06:21:49.183163+00:00', parent_config={'configurable': {'thread_id': '1', 'checkpoint_ns': '', 'checkpoint_id': '1f0b2fd1-4b8f-6201-8002-d4469802523b'}}, tasks=(PregelTask(id='08b3c3d8-db01-6353-47b5-9a39808df417', name='__start__', path=('__pregel_pull', '__start__'), error=None, interrupts=(), state=None, result={'topic': 'computers'}),), interrupts=()),\n",
       " StateSnapshot(values={'topic': 'computers', 'joke': 'Why did the computer go to the doctor?\\n\\nBecause it had a **byte** of an issue and needed a **reboot**!', 'explanation': 'This joke is a classic play on words, using computer terminology in a human context. Here\\'s the breakdown:\\n\\n1.  **\"byte\" of an issue:**\\n    *   **Computer Meaning:** A \"byte\" is a fundamental unit of digital information (8 bits). It\\'s a core component of how computers store and process data.\\n    *   **Pun/Human Meaning:** It sounds exactly like \"bite\" (as in, a small wound, or a small piece of something). If someone has a \"bite\" (like an insect bite or an injury) or \"a bit of an issue\" (a small problem), they might go to a doctor. So, \"a byte of an issue\" cleverly sounds like \"a *bit* of an issue\" that needs attention.\\n\\n2.  **\"reboot\"**:\\n    *   **Computer Meaning:** To \"reboot\" a computer means to restart it. This is a common troubleshooting step to fix glitches, clear temporary memory, or get the system running smoothly again.\\n    *   **Pun/Human Meaning:** In a human context, when someone is feeling unwell, tired, or having problems, they might metaphorically need a \"reboot\" – meaning a rest, a fresh start, or some intervention to get them back to full health. A doctor helps facilitate this \"reboot\" for people.\\n\\nThe humor comes from applying these very specific computer terms to a situation typically reserved for humans, creating a silly and unexpected answer that works on both levels.'}, next=(), config={'configurable': {'thread_id': '1', 'checkpoint_ns': '', 'checkpoint_id': '1f0b2fd1-4b8f-6201-8002-d4469802523b'}}, metadata={'source': 'loop', 'step': 2, 'parents': {}}, created_at='2025-10-27T06:20:49.262028+00:00', parent_config={'configurable': {'thread_id': '1', 'checkpoint_ns': '', 'checkpoint_id': '1f0b2fd0-f170-6935-8001-6ecb7705fc05'}}, tasks=(), interrupts=()),\n",
       " StateSnapshot(values={'topic': 'computers', 'joke': 'Why did the computer go to the doctor?\\n\\nBecause it had a **byte** of an issue and needed a **reboot**!'}, next=('generate_explanation',), config={'configurable': {'thread_id': '1', 'checkpoint_ns': '', 'checkpoint_id': '1f0b2fd0-f170-6935-8001-6ecb7705fc05'}}, metadata={'source': 'loop', 'step': 1, 'parents': {}}, created_at='2025-10-27T06:20:39.812331+00:00', parent_config={'configurable': {'thread_id': '1', 'checkpoint_ns': '', 'checkpoint_id': '1f0b2fd0-8864-6a58-8000-583e050e694e'}}, tasks=(PregelTask(id='8b8660bf-8766-cd43-5f4b-7a91926504f6', name='generate_explanation', path=('__pregel_pull', 'generate_explanation'), error=None, interrupts=(), state=None, result={'explanation': 'This joke is a classic play on words, using computer terminology in a human context. Here\\'s the breakdown:\\n\\n1.  **\"byte\" of an issue:**\\n    *   **Computer Meaning:** A \"byte\" is a fundamental unit of digital information (8 bits). It\\'s a core component of how computers store and process data.\\n    *   **Pun/Human Meaning:** It sounds exactly like \"bite\" (as in, a small wound, or a small piece of something). If someone has a \"bite\" (like an insect bite or an injury) or \"a bit of an issue\" (a small problem), they might go to a doctor. So, \"a byte of an issue\" cleverly sounds like \"a *bit* of an issue\" that needs attention.\\n\\n2.  **\"reboot\"**:\\n    *   **Computer Meaning:** To \"reboot\" a computer means to restart it. This is a common troubleshooting step to fix glitches, clear temporary memory, or get the system running smoothly again.\\n    *   **Pun/Human Meaning:** In a human context, when someone is feeling unwell, tired, or having problems, they might metaphorically need a \"reboot\" – meaning a rest, a fresh start, or some intervention to get them back to full health. A doctor helps facilitate this \"reboot\" for people.\\n\\nThe humor comes from applying these very specific computer terms to a situation typically reserved for humans, creating a silly and unexpected answer that works on both levels.'}),), interrupts=()),\n",
       " StateSnapshot(values={'topic': 'computers'}, next=('generate_joke',), config={'configurable': {'thread_id': '1', 'checkpoint_ns': '', 'checkpoint_id': '1f0b2fd0-8864-6a58-8000-583e050e694e'}}, metadata={'source': 'loop', 'step': 0, 'parents': {}}, created_at='2025-10-27T06:20:28.797397+00:00', parent_config={'configurable': {'thread_id': '1', 'checkpoint_ns': '', 'checkpoint_id': '1f0b2fd0-885a-6de1-bfff-9ae66f544187'}}, tasks=(PregelTask(id='fb9abc01-233f-b1e1-5120-ea0ac5495387', name='generate_joke', path=('__pregel_pull', 'generate_joke'), error=None, interrupts=(), state=None, result={'joke': 'Why did the computer go to the doctor?\\n\\nBecause it had a **byte** of an issue and needed a **reboot**!'}),), interrupts=()),\n",
       " StateSnapshot(values={}, next=('__start__',), config={'configurable': {'thread_id': '1', 'checkpoint_ns': '', 'checkpoint_id': '1f0b2fd0-885a-6de1-bfff-9ae66f544187'}}, metadata={'source': 'input', 'step': -1, 'parents': {}}, created_at='2025-10-27T06:20:28.793392+00:00', parent_config=None, tasks=(PregelTask(id='f1d3a0ee-2b22-58ce-4a54-19731652e083', name='__start__', path=('__pregel_pull', '__start__'), error=None, interrupts=(), state=None, result={'topic': 'computers'}),), interrupts=())]"
      ]
     },
     "execution_count": 15,
     "metadata": {},
     "output_type": "execute_result"
    }
   ],
   "source": [
    "list(workflow.get_state_history(config1))"
   ]
  }
 ],
 "metadata": {
  "kernelspec": {
   "display_name": "venv",
   "language": "python",
   "name": "python3"
  },
  "language_info": {
   "codemirror_mode": {
    "name": "ipython",
    "version": 3
   },
   "file_extension": ".py",
   "mimetype": "text/x-python",
   "name": "python",
   "nbconvert_exporter": "python",
   "pygments_lexer": "ipython3",
   "version": "3.10.11"
  }
 },
 "nbformat": 4,
 "nbformat_minor": 5
}
