{
  "cells": [
    {
      "cell_type": "markdown",
      "metadata": {},
      "source": [
        "# Fault Tolerance in Workflow Execution"
      ]
    },
    {
      "cell_type": "code",
      "execution_count": 2,
      "metadata": {
        "id": "UL6Nlu4caKNZ"
      },
      "outputs": [],
      "source": [
        "from langgraph.graph import StateGraph , START, END\n",
        "from langgraph.checkpoint.memory import InMemorySaver\n",
        "from typing import TypedDict\n",
        "import time"
      ]
    },
    {
      "cell_type": "markdown",
      "metadata": {
        "id": "c6y80EU1ah_0"
      },
      "source": [
        "### Define State"
      ]
    },
    {
      "cell_type": "code",
      "execution_count": 3,
      "metadata": {
        "id": "I8Fs1JEgahE_"
      },
      "outputs": [],
      "source": [
        "class CrashState(TypedDict):\n",
        "    input: str\n",
        "    step1: str\n",
        "    step2: str\n",
        "    step3: str"
      ]
    },
    {
      "cell_type": "markdown",
      "metadata": {
        "id": "jgVKEmNq47b-"
      },
      "source": [
        "### Define Steps"
      ]
    },
    {
      "cell_type": "code",
      "execution_count": 4,
      "metadata": {
        "id": "m-rouT_wa4cG"
      },
      "outputs": [],
      "source": [
        "def step_1(state: CrashState) -> CrashState:\n",
        "    print(\"Executing Step 1\")\n",
        "    return {\n",
        "        \"step1\": \"Step 1 completed\",\n",
        "        \"input\": state[\"input\"]\n",
        "    }\n",
        "\n",
        "def step_2(state: CrashState) -> CrashState:\n",
        "    print(\"Executing Step 2....now manually interupt from the notebook toolbar (Stop) to simulate a crash\")\n",
        "    time.sleep(30)  # Wait to allow manual interruption\n",
        "    return{\n",
        "        \"step2\": \"Step 2 completed\"\n",
        "    }\n",
        "\n",
        "def step_3(state: CrashState) -> CrashState:\n",
        "    print(\"Executing Step 3\")\n",
        "    return {\n",
        "        \"step3\": \"Step 3 completed\"\n",
        "    }"
      ]
    },
    {
      "cell_type": "markdown",
      "metadata": {
        "id": "tGY-Z68f7SMJ"
      },
      "source": [
        "### Create Workflow"
      ]
    },
    {
      "cell_type": "code",
      "execution_count": 5,
      "metadata": {
        "id": "ZsdaQcpo44aa"
      },
      "outputs": [],
      "source": [
        "graph = StateGraph(CrashState)\n",
        "\n",
        "graph.add_node(\"step_1\", step_1)\n",
        "graph.add_node(\"step_2\", step_2)\n",
        "graph.add_node(\"step_3\", step_3)\n",
        "\n",
        "graph.add_edge(START, \"step_1\")\n",
        "graph.add_edge(\"step_1\", \"step_2\")\n",
        "graph.add_edge(\"step_2\", \"step_3\")\n",
        "graph.add_edge(\"step_3\", END)\n",
        "\n",
        "\n",
        "checkpointer  = InMemorySaver()\n",
        "\n",
        "workflow = graph.compile(checkpointer=checkpointer)"
      ]
    },
    {
      "cell_type": "code",
      "execution_count": 6,
      "metadata": {
        "colab": {
          "base_uri": "https://localhost:8080/",
          "height": 449
        },
        "id": "U2cIMseg5VkL",
        "outputId": "bccb5b1d-a8f9-4f30-b697-4b77b1ec5219"
      },
      "outputs": [
        {
          "data": {
            "image/png": "[encoded data removed]",
            "text/plain": [
              "<langgraph.graph.state.CompiledStateGraph object at 0x7a73572fdf10>"
            ]
          },
          "execution_count": 6,
          "metadata": {},
          "output_type": "execute_result"
        }
      ],
      "source": [
        "workflow"
      ]
    },
    {
      "cell_type": "markdown",
      "metadata": {
        "id": "71Qr-ji97VHI"
      },
      "source": [
        "### Define Initial State"
      ]
    },
    {
      "cell_type": "code",
      "execution_count": 7,
      "metadata": {
        "id": "x67N7_bb5nZ5"
      },
      "outputs": [],
      "source": [
        "initial_state = {\n",
        "    \"input\": \"start\"\n",
        "}"
      ]
    },
    {
      "cell_type": "markdown",
      "metadata": {
        "id": "VCqU8i9H7YSQ"
      },
      "source": [
        "### Configure Thread ID"
      ]
    },
    {
      "cell_type": "code",
      "execution_count": 8,
      "metadata": {
        "id": "iXvlYCI25snj"
      },
      "outputs": [],
      "source": [
        "config = {\n",
        "    \"configurable\":{\n",
        "        \"thread_id\": \"thread-1\"\n",
        "    }\n",
        "}"
      ]
    },
    {
      "cell_type": "markdown",
      "metadata": {
        "id": "4Vav4Yas7cgk"
      },
      "source": [
        "### Simulating Fault Tolerance by Manual Interruption\n",
        "\n",
        "To demonstrate fault tolerance, manually interrupt the workflow during Step 2 using the notebook's stop button. This simulates a crash scenario, allowing us to observe how the workflow handles interruptions and resumes execution."
      ]
    },
    {
      "cell_type": "code",
      "execution_count": 9,
      "metadata": {
        "colab": {
          "base_uri": "https://localhost:8080/"
        },
        "id": "XFRBy3Jl5WuH",
        "outputId": "93f9bed4-9519-40b3-9d3d-d4738eb1d30c"
      },
      "outputs": [
        {
          "name": "stdout",
          "output_type": "stream",
          "text": [
            "Running workflow: Manully interrupt during step 2....\n",
            "Executing Step 1\n",
            "Executing Step 2....now manually interupt from the notebook toolbar (Stop) to simulate a crash\n",
            "Workflow manually interrupted (crash simulated)\n"
          ]
        }
      ],
      "source": [
        "try:\n",
        "  print(\"Running workflow: Manully interrupt during step 2....\")\n",
        "  workflow.invoke(initial_state, config = config)\n",
        "except KeyboardInterrupt:\n",
        "  print(\"Workflow manually interrupted (crash simulated)\")"
      ]
    },
    {
      "cell_type": "markdown",
      "metadata": {
        "id": "EjmEZvDS7jYb"
      },
      "source": [
        "### Observing Workflow Progress and Interruption\n",
        "\n",
        "After running the workflow, we can see that only Step 1 has completed successfully. Step 2 was interrupted, simulating a crash scenario."
      ]
    },
    {
      "cell_type": "code",
      "execution_count": 11,
      "metadata": {
        "colab": {
          "base_uri": "https://localhost:8080/"
        },
        "id": "X6ozFf1I6D5-",
        "outputId": "19bb567e-65f8-489e-d84a-6a2c31ff6225"
      },
      "outputs": [
        {
          "data": {
            "text/plain": [
              "StateSnapshot(values={'input': 'start', 'step1': 'Step 1 completed'}, next=('step_2',), config={'configurable': {'thread_id': 'thread-1', 'checkpoint_ns': '', 'checkpoint_id': '1f0b313c-3f27-6b51-8001-3afb2a1bb206'}}, metadata={'source': 'loop', 'step': 1, 'parents': {}}, created_at='2025-10-27T09:03:12.168394+00:00', parent_config={'configurable': {'thread_id': 'thread-1', 'checkpoint_ns': '', 'checkpoint_id': '1f0b313c-3f21-6f09-8000-b62368a4ad49'}}, tasks=(PregelTask(id='f94381f4-47e9-99a3-72a1-6fdaabdf3282', name='step_2', path=('__pregel_pull', 'step_2'), error=None, interrupts=(), state=None, result=None),), interrupts=())"
            ]
          },
          "execution_count": 11,
          "metadata": {},
          "output_type": "execute_result"
        }
      ],
      "source": [
        "workflow.get_state(config)"
      ]
    },
    {
      "cell_type": "markdown",
      "metadata": {
        "id": "0sCRpeQh7s8I"
      },
      "source": [
        "### View the Complete State History\n",
        "\n",
        "Below, we can review the entire history of workflow states, showing progress and interruptions throughout execution."
      ]
    },
    {
      "cell_type": "code",
      "execution_count": 12,
      "metadata": {
        "colab": {
          "base_uri": "https://localhost:8080/"
        },
        "id": "jjP1r04O6NQp",
        "outputId": "d3d57d5a-487e-4d8f-a301-c9e3350d3036"
      },
      "outputs": [
        {
          "data": {
            "text/plain": [
              "[StateSnapshot(values={'input': 'start', 'step1': 'Step 1 completed'}, next=('step_2',), config={'configurable': {'thread_id': 'thread-1', 'checkpoint_ns': '', 'checkpoint_id': '1f0b313c-3f27-6b51-8001-3afb2a1bb206'}}, metadata={'source': 'loop', 'step': 1, 'parents': {}}, created_at='2025-10-27T09:03:12.168394+00:00', parent_config={'configurable': {'thread_id': 'thread-1', 'checkpoint_ns': '', 'checkpoint_id': '1f0b313c-3f21-6f09-8000-b62368a4ad49'}}, tasks=(PregelTask(id='f94381f4-47e9-99a3-72a1-6fdaabdf3282', name='step_2', path=('__pregel_pull', 'step_2'), error=None, interrupts=(), state=None, result=None),), interrupts=()),\n",
              " StateSnapshot(values={'input': 'start'}, next=('step_1',), config={'configurable': {'thread_id': 'thread-1', 'checkpoint_ns': '', 'checkpoint_id': '1f0b313c-3f21-6f09-8000-b62368a4ad49'}}, metadata={'source': 'loop', 'step': 0, 'parents': {}}, created_at='2025-10-27T09:03:12.166030+00:00', parent_config={'configurable': {'thread_id': 'thread-1', 'checkpoint_ns': '', 'checkpoint_id': '1f0b313c-3f14-6a67-bfff-5289d6c67ff7'}}, tasks=(PregelTask(id='d39b17d3-e94e-d6b5-46c8-9886d651d80c', name='step_1', path=('__pregel_pull', 'step_1'), error=None, interrupts=(), state=None, result={'step1': 'Step 1 completed', 'input': 'start'}),), interrupts=()),\n",
              " StateSnapshot(values={}, next=('__start__',), config={'configurable': {'thread_id': 'thread-1', 'checkpoint_ns': '', 'checkpoint_id': '1f0b313c-3f14-6a67-bfff-5289d6c67ff7'}}, metadata={'source': 'input', 'step': -1, 'parents': {}}, created_at='2025-10-27T09:03:12.160602+00:00', parent_config=None, tasks=(PregelTask(id='ca6b91b4-4cc9-0f63-8c6e-6710c38fb04a', name='__start__', path=('__pregel_pull', '__start__'), error=None, interrupts=(), state=None, result={'input': 'start'}),), interrupts=())]"
            ]
          },
          "execution_count": 12,
          "metadata": {},
          "output_type": "execute_result"
        }
      ],
      "source": [
        "list(workflow.get_state_history(config))"
      ]
    },
    {
      "cell_type": "markdown",
      "metadata": {
        "id": "ORz-vHm37y-m"
      },
      "source": [
        "### Re-running the workflow from step 2\n",
        "\n",
        "By passing `None` instead of `initial_state`, the workflow resumes from the point where it was interrupted. This demonstrates fault tolerance, allowing execution to continue from the last completed step."
      ]
    },
    {
      "cell_type": "code",
      "execution_count": 13,
      "metadata": {
        "colab": {
          "base_uri": "https://localhost:8080/"
        },
        "id": "E8l0vXxC6iD1",
        "outputId": "8015a2f8-68c8-4cff-c5e5-58b6b2756cf4"
      },
      "outputs": [
        {
          "name": "stdout",
          "output_type": "stream",
          "text": [
            "Executing Step 2....now manually interupt from the notebook toolbar (Stop) to simulate a crash\n",
            "Executing Step 3\n"
          ]
        }
      ],
      "source": [
        "final_state = workflow.invoke(None, config = config)"
      ]
    },
    {
      "cell_type": "code",
      "execution_count": 14,
      "metadata": {
        "colab": {
          "base_uri": "https://localhost:8080/"
        },
        "id": "uWWk-3i66uG6",
        "outputId": "9e569549-65f9-4d4a-ab55-b69a01f9cbd9"
      },
      "outputs": [
        {
          "name": "stdout",
          "output_type": "stream",
          "text": [
            "Final State: {'input': 'start', 'step1': 'Step 1 completed', 'step2': 'Step 2 completed', 'step3': 'Step 3 completed'}\n"
          ]
        }
      ],
      "source": [
        "print(\"Final State:\", final_state)"
      ]
    },
    {
      "cell_type": "code",
      "execution_count": 16,
      "metadata": {
        "colab": {
          "base_uri": "https://localhost:8080/"
        },
        "id": "LmieGBwf7A9_",
        "outputId": "77dd1032-eafc-423a-fb2e-175b59a927dc"
      },
      "outputs": [
        {
          "data": {
            "text/plain": [
              "StateSnapshot(values={'input': 'start', 'step1': 'Step 1 completed', 'step2': 'Step 2 completed', 'step3': 'Step 3 completed'}, next=(), config={'configurable': {'thread_id': 'thread-1', 'checkpoint_ns': '', 'checkpoint_id': '1f0b3143-cdc1-6941-8003-54d1f22da247'}}, metadata={'source': 'loop', 'step': 3, 'parents': {}}, created_at='2025-10-27T09:06:35.026030+00:00', parent_config={'configurable': {'thread_id': 'thread-1', 'checkpoint_ns': '', 'checkpoint_id': '1f0b3143-cdbe-6fb2-8002-41ee2984b1e1'}}, tasks=(), interrupts=())"
            ]
          },
          "execution_count": 16,
          "metadata": {},
          "output_type": "execute_result"
        }
      ],
      "source": [
        "workflow.get_state(config)"
      ]
    },
    {
      "cell_type": "code",
      "execution_count": 17,
      "metadata": {
        "colab": {
          "base_uri": "https://localhost:8080/"
        },
        "id": "cqt8xevS7LUZ",
        "outputId": "ebcacbc5-227a-41a4-99fd-bfc32e017a21"
      },
      "outputs": [
        {
          "data": {
            "text/plain": [
              "[StateSnapshot(values={'input': 'start', 'step1': 'Step 1 completed', 'step2': 'Step 2 completed', 'step3': 'Step 3 completed'}, next=(), config={'configurable': {'thread_id': 'thread-1', 'checkpoint_ns': '', 'checkpoint_id': '1f0b3143-cdc1-6941-8003-54d1f22da247'}}, metadata={'source': 'loop', 'step': 3, 'parents': {}}, created_at='2025-10-27T09:06:35.026030+00:00', parent_config={'configurable': {'thread_id': 'thread-1', 'checkpoint_ns': '', 'checkpoint_id': '1f0b3143-cdbe-6fb2-8002-41ee2984b1e1'}}, tasks=(), interrupts=()),\n",
              " StateSnapshot(values={'input': 'start', 'step1': 'Step 1 completed', 'step2': 'Step 2 completed'}, next=('step_3',), config={'configurable': {'thread_id': 'thread-1', 'checkpoint_ns': '', 'checkpoint_id': '1f0b3143-cdbe-6fb2-8002-41ee2984b1e1'}}, metadata={'source': 'loop', 'step': 2, 'parents': {}}, created_at='2025-10-27T09:06:35.024954+00:00', parent_config={'configurable': {'thread_id': 'thread-1', 'checkpoint_ns': '', 'checkpoint_id': '1f0b313c-3f27-6b51-8001-3afb2a1bb206'}}, tasks=(PregelTask(id='81812f73-4e37-be7f-2431-5c881f40224a', name='step_3', path=('__pregel_pull', 'step_3'), error=None, interrupts=(), state=None, result={'step3': 'Step 3 completed'}),), interrupts=()),\n",
              " StateSnapshot(values={'input': 'start', 'step1': 'Step 1 completed'}, next=('step_2',), config={'configurable': {'thread_id': 'thread-1', 'checkpoint_ns': '', 'checkpoint_id': '1f0b313c-3f27-6b51-8001-3afb2a1bb206'}}, metadata={'source': 'loop', 'step': 1, 'parents': {}}, created_at='2025-10-27T09:03:12.168394+00:00', parent_config={'configurable': {'thread_id': 'thread-1', 'checkpoint_ns': '', 'checkpoint_id': '1f0b313c-3f21-6f09-8000-b62368a4ad49'}}, tasks=(PregelTask(id='f94381f4-47e9-99a3-72a1-6fdaabdf3282', name='step_2', path=('__pregel_pull', 'step_2'), error=None, interrupts=(), state=None, result={'step2': 'Step 2 completed'}),), interrupts=()),\n",
              " StateSnapshot(values={'input': 'start'}, next=('step_1',), config={'configurable': {'thread_id': 'thread-1', 'checkpoint_ns': '', 'checkpoint_id': '1f0b313c-3f21-6f09-8000-b62368a4ad49'}}, metadata={'source': 'loop', 'step': 0, 'parents': {}}, created_at='2025-10-27T09:03:12.166030+00:00', parent_config={'configurable': {'thread_id': 'thread-1', 'checkpoint_ns': '', 'checkpoint_id': '1f0b313c-3f14-6a67-bfff-5289d6c67ff7'}}, tasks=(PregelTask(id='d39b17d3-e94e-d6b5-46c8-9886d651d80c', name='step_1', path=('__pregel_pull', 'step_1'), error=None, interrupts=(), state=None, result={'step1': 'Step 1 completed', 'input': 'start'}),), interrupts=()),\n",
              " StateSnapshot(values={}, next=('__start__',), config={'configurable': {'thread_id': 'thread-1', 'checkpoint_ns': '', 'checkpoint_id': '1f0b313c-3f14-6a67-bfff-5289d6c67ff7'}}, metadata={'source': 'input', 'step': -1, 'parents': {}}, created_at='2025-10-27T09:03:12.160602+00:00', parent_config=None, tasks=(PregelTask(id='ca6b91b4-4cc9-0f63-8c6e-6710c38fb04a', name='__start__', path=('__pregel_pull', '__start__'), error=None, interrupts=(), state=None, result={'input': 'start'}),), interrupts=())]"
            ]
          },
          "execution_count": 17,
          "metadata": {},
          "output_type": "execute_result"
        }
      ],
      "source": [
        "list(workflow.get_state_history(config))"
      ]
    },
    {
      "cell_type": "code",
      "execution_count": null,
      "metadata": {
        "id": "PgiAepf17QJB"
      },
      "outputs": [],
      "source": []
    }
  ],
  "metadata": {
    "colab": {
      "provenance": []
    },
    "kernelspec": {
      "display_name": "Python 3",
      "name": "python3"
    },
    "language_info": {
      "name": "python"
    }
  },
  "nbformat": 4,
  "nbformat_minor": 0
}
